{
  "nbformat": 4,
  "nbformat_minor": 0,
  "metadata": {
    "colab": {
      "name": "deepdream_ttmai.ipynb",
      "provenance": [],
      "collapsed_sections": [],
      "toc_visible": true,
      "include_colab_link": true
    },
    "kernelspec": {
      "name": "python3",
      "display_name": "Python 3"
    },
    "accelerator": "GPU"
  },
  "cells": [
    {
      "cell_type": "markdown",
      "metadata": {
        "id": "view-in-github",
        "colab_type": "text"
      },
      "source": [
        "<a href=\"https://colab.research.google.com/github/fzantalis/colab_collection/blob/master/deepdream_ttmai.ipynb\" target=\"_parent\"><img src=\"https://colab.research.google.com/assets/colab-badge.svg\" alt=\"Open In Colab\"/></a>"
      ]
    },
    {
      "cell_type": "markdown",
      "metadata": {
        "id": "-PLC9SvcQgkG",
        "colab_type": "text"
      },
      "source": [
        "# DeepDreaming with TensorFlow\n",
        "### Αυτή είναι μία ελαφρώς τροποποιημένη έκδοση του notebook \"deepdream\" του ___Alex Mordvintsev___, έτσι ώστε να παίζει με νέα έκδοση python και tensorflow\n",
        "\n",
        "Με αυτό το notebook μπορεί ο κάθε χρήστης να παράγει μία \"DeepDream\" εικόνα εισάγωντας μία δική του αρχική εικόνα. Για την δημιουργία του DeepDream χρησιμοποιείται το προεκπαιδευμένο νευρωνικό δίκτυο της Google - \"Inception\".\n"
      ]
    },
    {
      "cell_type": "markdown",
      "metadata": {
        "id": "ILvNKvMvc2n5",
        "colab_type": "text"
      },
      "source": [
        "### 1) Φόρτωση του προ-εκπαιδευμένου μοντέλου\n",
        "\n",
        "Ο παρακάτω κώδικας κατεβάζει και φορτώνει το προ-εκπαιδευμένο μοντέλο του δικτύου Inception *(tensorflow_inception_graph.pb)*"
      ]
    },
    {
      "cell_type": "code",
      "metadata": {
        "id": "1kJuJRLiQgkg",
        "colab_type": "code",
        "cellView": "both",
        "colab": {}
      },
      "source": [
        "!wget -nc --no-check-certificate https://storage.googleapis.com/download.tensorflow.org/models/inception5h.zip && unzip -n inception5h.zip\n",
        "\n",
        "from io import BytesIO\n",
        "from IPython.display import clear_output, Image, display\n",
        "import numpy as np\n",
        "import PIL.Image\n",
        "import tensorflow as tf\n",
        "from __future__ import print_function\n",
        "\n",
        "model_fn = 'tensorflow_inception_graph.pb'\n",
        "\n",
        "# creating TensorFlow session and loading the model\n",
        "graph = tf.Graph()\n",
        "sess = tf.compat.v1.InteractiveSession(graph=graph)\n",
        "with open(model_fn, 'rb') as f:\n",
        "    graph_def = tf.compat.v1.GraphDef()\n",
        "    graph_def.ParseFromString(f.read())\n",
        "t_input = tf.compat.v1.placeholder(np.float32, name='input') # define the input tensor\n",
        "imagenet_mean = 117.0\n",
        "t_preprocessed = tf.expand_dims(t_input-imagenet_mean, 0)\n",
        "tf.import_graph_def(graph_def, {'input':t_preprocessed})\n",
        "\n",
        "def T(layer):\n",
        "    '''Helper for getting layer output tensor'''\n",
        "    return graph.get_tensor_by_name(\"import/%s:0\"%layer)"
      ],
      "execution_count": null,
      "outputs": []
    },
    {
      "cell_type": "markdown",
      "metadata": {
        "id": "_A6rIrUwAVit",
        "colab_type": "text"
      },
      "source": [
        "### Στο παρακάτω βήμα ανεβάζουμε την δική μας φωτογραφία"
      ]
    },
    {
      "cell_type": "code",
      "metadata": {
        "id": "J5pnVLSIYQbI",
        "colab_type": "code",
        "colab": {}
      },
      "source": [
        "from google.colab import files \n",
        "uploaded = files.upload() \n",
        "for img in uploaded.keys():\n",
        "  print('User uploaded file \"{name}\" with length {length} bytes'.format(\n",
        "      name=img, length=len(uploaded[img])))"
      ],
      "execution_count": null,
      "outputs": []
    },
    {
      "cell_type": "code",
      "metadata": {
        "id": "9xXGMG3MHih-",
        "colab_type": "code",
        "colab": {}
      },
      "source": [
        "file_contents = open(img, 'rb').read()  "
      ],
      "execution_count": null,
      "outputs": []
    },
    {
      "cell_type": "markdown",
      "metadata": {
        "id": "FTA0_5cjLjKR",
        "colab_type": "text"
      },
      "source": [
        "### 2) Φόρτωση της αρχικής εικόνας του χρήστη"
      ]
    },
    {
      "cell_type": "code",
      "metadata": {
        "id": "M9_vOh_2Qgl-",
        "colab_type": "code",
        "cellView": "both",
        "colab": {}
      },
      "source": [
        "def showarray(a, fmt='jpeg'):\n",
        "    a = np.uint8(np.clip(a, 0, 255))\n",
        "    f = BytesIO()\n",
        "    PIL.Image.fromarray(a).save(f, fmt)\n",
        "    display(Image(data=f.getvalue()))\n",
        "img0 = sess.run(tf.image.decode_image(file_contents))\n",
        "showarray(img0)"
      ],
      "execution_count": null,
      "outputs": []
    },
    {
      "cell_type": "markdown",
      "metadata": {
        "id": "oxELTBqpqOP5",
        "colab_type": "text"
      },
      "source": [
        "### 4) Παρακάτω βρίσκονται οι βασικές συναρτήσεις που υλοποιούν την τεχνική του DeepDream\n"
      ]
    },
    {
      "cell_type": "code",
      "metadata": {
        "id": "K8Usk3m5Q1E0",
        "colab_type": "code",
        "colab": {}
      },
      "source": [
        "# These parameters let us control the strenth of the deepdream.\n",
        "octave_n = 4\n",
        "octave_scale = 1.4\n",
        "iter_n = 10\n",
        "strength = 200\n",
        "\n",
        "# Helper function that uses TensorFlow to resize an image\n",
        "def resize(img, new_size):\n",
        "    return sess.run(tf.image.resize(img[np.newaxis,:], new_size))[0]\n",
        "\n",
        "# Apply gradients to an image in a seires of tiles\n",
        "def calc_grad_tiled(img, t_grad, tile_size=256):\n",
        "    '''Random shifts are applied to the image to blur tile boundaries over\n",
        "    multiple iterations.'''\n",
        "    h, w = img.shape[:2]\n",
        "    sx, sy = np.random.randint(tile_size, size=2)\n",
        "    # We randomly roll the image in x and y to avoid seams between tiles.\n",
        "    img_shift = np.roll(np.roll(img, sx, 1), sy, 0)\n",
        "    grad = np.zeros_like(img)\n",
        "    for y in range(0, max(h-tile_size//2, tile_size),tile_size):\n",
        "        for x in range(0, max(w-tile_size//2, tile_size),tile_size):\n",
        "            sub = img_shift[y:y+tile_size,x:x+tile_size]\n",
        "            g = sess.run(t_grad, {t_input:sub})\n",
        "            grad[y:y+tile_size,x:x+tile_size] = g\n",
        "    imggrad = np.roll(np.roll(grad, -sx, 1), -sy, 0)\n",
        "    # Add the image gradient to the image and return the result\n",
        "    return img + imggrad*(strength * 0.01 / (np.abs(imggrad).mean()+1e-7))\n",
        "\n",
        "# Applies deepdream at multiple scales\n",
        "def render_deepdream(t_obj, input_img, show_steps = True):\n",
        "    # Collapse the optimization objective to a single number (the loss)\n",
        "    t_score = tf.reduce_mean(t_obj)\n",
        "    # We need the gradient of the image with respect to the objective\n",
        "    t_grad = tf.gradients(t_score, t_input)[0]\n",
        "\n",
        "    # split the image into a number of octaves (laplacian pyramid)\n",
        "    img = input_img\n",
        "    octaves = []\n",
        "    for i in range(octave_n-1):\n",
        "        lo = resize(img, np.int32(np.float32(img.shape[:2])/octave_scale))\n",
        "        octaves.append(img-resize(lo, img.shape[:2]))\n",
        "        img = lo\n",
        "\n",
        "    # generate details octave by octave\n",
        "    for octave in range(octave_n):\n",
        "        if octave>0:\n",
        "            hi = octaves[-octave]\n",
        "            img = resize(img, hi.shape[:2])+hi\n",
        "        for i in range(iter_n):\n",
        "            img = calc_grad_tiled(img, t_grad)\n",
        "        if show_steps:\n",
        "            clear_output()\n",
        "            showarray(img)\n",
        "    return img"
      ],
      "execution_count": null,
      "outputs": []
    },
    {
      "cell_type": "markdown",
      "metadata": {
        "id": "mc3Ea6SrRzIB",
        "colab_type": "text"
      },
      "source": [
        "### 4) Ας ξεκινήσουμε το DeepDream\n",
        "\n",
        "Στα δεξιά μπορείτε να ρυθμίσετε παραμέτρους όπως την ένταση των παραμορφώσεων της εικόνας (strength), ή τον αριθμό των επαναλλήψεων για την επεξεργασία της εικόνας(iter_n)."
      ]
    },
    {
      "cell_type": "code",
      "metadata": {
        "id": "T9ZA24auPnVt",
        "colab_type": "code",
        "colab": {}
      },
      "source": [
        "octave_n = 4 #@param {type:\"slider\", max: 10}\n",
        "octave_scale = 1.4 #@param {type:\"number\"}\n",
        "iter_n = 15 #@param {type:\"slider\", max: 50}\n",
        "strength = 200 #@param {type:\"slider\", max: 1000}\n",
        "layer = \"mixed4c\"  #@param [\"mixed3a\", \"mixed3b\", \"mixed4a\", \"mixed4c\", \"mixed5a\"]\n",
        "\n",
        "final = render_deepdream(tf.square(T(layer)), img0)\n"
      ],
      "execution_count": null,
      "outputs": []
    },
    {
      "cell_type": "markdown",
      "metadata": {
        "id": "jQL7w_LNz1rJ",
        "colab_type": "text"
      },
      "source": [
        "### 5) Zooming iterative DeepDream\n",
        "\n",
        "Μπορούμε να παράγουμε μία ακόμα πιο ψυχεδελική εικόνα με το να ζουμάρουμε την εικόνα κάθε φορά που την επεξεργάζεται το νευρωνικό δίκτυο.\n",
        "\n",
        "Στα δεξιά μπορείτε να ρυθμίσετε παραμέτρους όπως την ένταση των παραμορφώσεων της εικόνας (strength), ή τον αριθμό των βημάτων του zoom(zooming_steps)."
      ]
    },
    {
      "cell_type": "code",
      "metadata": {
        "id": "j3c2e0uO0CyP",
        "colab_type": "code",
        "colab": {}
      },
      "source": [
        "layer = \"mixed4d_3x3_bottleneck_pre_relu\"  #@param [\"mixed4d_3x3_bottleneck_pre_relu\", \"mixed3a\", \"mixed3b\", \"mixed4a\", \"mixed4c\", \"mixed5a\"]\n",
        "iter_n = 5 #@param {type:\"slider\", max: 50}\n",
        "strength = 150 #@param {type:\"slider\", max: 1000}\n",
        "zooming_steps = 20 #@param {type:\"slider\", max: 512}\n",
        "zoom_factor = 1.1 #@param {type:\"number\"}\n",
        "\n",
        "frame = img0\n",
        "img_y, img_x, _ = img0.shape\n",
        "for i in range(zooming_steps):\n",
        "  frame = render_deepdream(tf.square(T(layer)), frame, False)\n",
        "  clear_output()\n",
        "  showarray(frame)\n",
        "  newsize = np.int32(np.float32(frame.shape[:2])*zoom_factor)\n",
        "  frame = resize(frame, newsize)\n",
        "  frame = frame[(newsize[0]-img_y)//2:(newsize[0]-img_y)//2+img_y,\n",
        "                (newsize[1]-img_x)//2:(newsize[1]-img_x)//2+img_x,:]\n",
        "  "
      ],
      "execution_count": null,
      "outputs": []
    },
    {
      "cell_type": "markdown",
      "metadata": {
        "id": "2AzLO_JiS6gi",
        "colab_type": "text"
      },
      "source": [
        "### Further reading for the curious\n",
        "\n",
        " *   Original [DeepDream (Inceptionism) blog post](https://research.googleblog.com/2015/06/inceptionism-going-deeper-into-neural.html)\n",
        " *   [Original DeepDream algorithm](https://github.com/google/deepdream/blob/master/dream.ipynb) with Caffe"
      ]
    }
  ]
}