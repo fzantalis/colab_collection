{
  "nbformat": 4,
  "nbformat_minor": 0,
  "metadata": {
    "colab": {
      "name": "Toonify_yourself_ttmai",
      "provenance": [],
      "collapsed_sections": [],
      "toc_visible": true,
      "machine_shape": "hm",
      "include_colab_link": true
    },
    "kernelspec": {
      "name": "python3",
      "display_name": "Python 3"
    },
    "accelerator": "GPU"
  },
  "cells": [
    {
      "cell_type": "markdown",
      "metadata": {
        "id": "view-in-github",
        "colab_type": "text"
      },
      "source": [
        "<a href=\"https://colab.research.google.com/github/fzantalis/colab_collection/blob/master/Toonify_yourself_ttmai.ipynb\" target=\"_parent\"><img src=\"https://colab.research.google.com/assets/colab-badge.svg\" alt=\"Open In Colab\"/></a>"
      ]
    },
    {
      "cell_type": "markdown",
      "metadata": {
        "id": "4_s8h-ilzHQc",
        "colab_type": "text"
      },
      "source": [
        "# Toonify yourself!\n",
        "\n",
        "Αυτή είναι μία ελαφρώς απλοποιημένη έκδοση του notebook που παρέχεται από το original project:\n",
        "https://www.justinpinkney.com/toonify-yourself/\n",
        "\n",
        "\n",
        "Πριν ξεκινήσουμε, βεβαιωθείτε ότι έχετε επιλέξει το **GPU** σαν *Runtime Type*.\n",
        "\n",
        "(Runtime --> change runtime type --> Hardware accelerator: GPU)"
      ]
    },
    {
      "cell_type": "markdown",
      "metadata": {
        "id": "vsAbxjfEkUOD",
        "colab_type": "text"
      },
      "source": [
        "# Αρχικά πατάμε τα παρακάτω κουμπάκια για να κατεβάσουμε τον κώδικα της εφαρμογής και να ετοιμάσουμε το περιβάλλον μας."
      ]
    },
    {
      "cell_type": "code",
      "metadata": {
        "id": "PzDuIoMcqfBT",
        "colab_type": "code",
        "colab": {}
      },
      "source": [
        "%tensorflow_version 1.x"
      ],
      "execution_count": null,
      "outputs": []
    },
    {
      "cell_type": "code",
      "metadata": {
        "id": "cuMEHnpmI1Mj",
        "colab_type": "code",
        "colab": {}
      },
      "source": [
        "!git clone https://github.com/justinpinkney/stylegan2\n",
        "%cd stylegan2\n",
        "!nvcc test_nvcc.cu -o test_nvcc -run"
      ],
      "execution_count": null,
      "outputs": []
    },
    {
      "cell_type": "code",
      "metadata": {
        "id": "7YFk46FLM9qo",
        "colab_type": "code",
        "colab": {}
      },
      "source": [
        "!mkdir raw\n",
        "!mkdir aligned\n",
        "!mkdir generated"
      ],
      "execution_count": null,
      "outputs": []
    },
    {
      "cell_type": "markdown",
      "metadata": {
        "id": "3IppG8Z8O19R",
        "colab_type": "text"
      },
      "source": [
        "## Πατήστε το παρακάτω κουμπάκι για να ανεβάσετε την εικόνα σας.\n",
        "\n",
        "Δεν χρειάζεται να κάνετε κάποια επεξεργασία στην εικόνα σας, αλλά για βέλτιστο αποτέλεσμα, είναι καλό η εικόνα σας να έχει ανάλυση μεγαλύτερη από 1024x1024 pixels.\n"
      ]
    },
    {
      "cell_type": "code",
      "metadata": {
        "id": "Gj89vqL2l-ix",
        "colab_type": "code",
        "colab": {}
      },
      "source": [
        "from google.colab import files \n",
        "uploaded = files.upload() \n",
        "for photo in uploaded.keys():\n",
        "  print('User uploaded file \"{name}\" with length {length} bytes'.format(\n",
        "      name=photo, length=len(uploaded[photo])))"
      ],
      "execution_count": null,
      "outputs": []
    },
    {
      "cell_type": "markdown",
      "metadata": {
        "id": "soJxP7HUm7_j",
        "colab_type": "text"
      },
      "source": [
        "## Κατεβάζουμε τα εκπαιδευμένα μοντέλα"
      ]
    },
    {
      "cell_type": "code",
      "metadata": {
        "id": "cwVXBFaSuoIU",
        "colab_type": "code",
        "colab": {}
      },
      "source": [
        "import pretrained_networks\n",
        "\n",
        "blended_url = \"https://drive.google.com/uc?id=1L3ek9B4GJ7pv-QcCFK52hqn5DFxRpg6o\" \n",
        "ffhq_url = \"http://d36zk2xti64re0.cloudfront.net/stylegan2/networks/stylegan2-ffhq-config-f.pkl\"\n",
        "\n",
        "_, _, Gs_blended = pretrained_networks.load_networks(blended_url)\n",
        "_, _, Gs = pretrained_networks.load_networks(ffhq_url)"
      ],
      "execution_count": null,
      "outputs": []
    },
    {
      "cell_type": "code",
      "metadata": {
        "id": "MLUH060th5oQ",
        "colab_type": "code",
        "colab": {}
      },
      "source": [
        "!mv {photo} raw/.\n",
        "!python align_images.py raw aligned"
      ],
      "execution_count": null,
      "outputs": []
    },
    {
      "cell_type": "code",
      "metadata": {
        "id": "ldHXNMYhnYC5",
        "colab_type": "code",
        "colab": {}
      },
      "source": [
        "!python project_images.py --num-steps 550 aligned generated"
      ],
      "execution_count": null,
      "outputs": []
    },
    {
      "cell_type": "markdown",
      "metadata": {
        "id": "SHPPSqgInfAp",
        "colab_type": "text"
      },
      "source": [
        "## Μετατροπή εικόνας σε Cartoon"
      ]
    },
    {
      "cell_type": "code",
      "metadata": {
        "id": "EHQgAO2yqaew",
        "colab_type": "code",
        "colab": {}
      },
      "source": [
        "import numpy as np\n",
        "from PIL import Image\n",
        "import dnnlib\n",
        "import dnnlib.tflib as tflib\n",
        "from pathlib import Path\n",
        "\n",
        "latent_dir = Path(\"generated\")\n",
        "latents = latent_dir.glob(\"*.npy\")\n",
        "for latent_file in latents:\n",
        "  latent = np.load(latent_file)\n",
        "  latent = np.expand_dims(latent,axis=0)\n",
        "  synthesis_kwargs = dict(output_transform=dict(func=tflib.convert_images_to_uint8, nchw_to_nhwc=False), minibatch_size=8)\n",
        "  images = Gs_blended.components.synthesis.run(latent, randomize_noise=False, **synthesis_kwargs)\n",
        "  Image.fromarray(images.transpose((0,2,3,1))[0], 'RGB').save(latent_file.parent / (f\"{latent_file.stem}-toon.jpg\"))\n"
      ],
      "execution_count": null,
      "outputs": []
    },
    {
      "cell_type": "markdown",
      "metadata": {
        "id": "zR2v6nqVnkj4",
        "colab_type": "text"
      },
      "source": [
        "## Προβολή της εικόνας\n",
        "Σημείωση. Παρακάτω θα δείτε να παρουσιάζονται 2 εικόνες.\n",
        "\n",
        "Η πρώτη εικόνα είναι ο τρόπος που η εφαρμογή ανασυνθέτει το πρόσωπο της φωτογραφίας που του δώσαμε με δεδομένα που έχει απο το εκπαιδευμένο μοντέλο του.\n",
        "\n",
        "Μετά, αφού έχει μάθει να συνθέτει το πρόσωπο μας, δίνει τις οδηγίες για να παράγει την καρτουνίστικη εκδοχή που θέλουμε."
      ]
    },
    {
      "cell_type": "code",
      "metadata": {
        "id": "tcWXgS5DXata",
        "colab_type": "code",
        "colab": {}
      },
      "source": [
        "from IPython.display import Image \n",
        "embedded = Image(filename=\"generated/\" + photo.split(\".\")[0] + \"_01.png\", width=256)\n",
        "display(embedded)\n",
        "tooned = Image(filename=\"generated/\" + photo.split(\".\")[0] + \"_01-toon.jpg\", width=256)\n",
        "display(tooned)"
      ],
      "execution_count": null,
      "outputs": []
    },
    {
      "cell_type": "code",
      "metadata": {
        "id": "yYPXfOsZpHAR",
        "colab_type": "code",
        "colab": {}
      },
      "source": [
        ""
      ],
      "execution_count": null,
      "outputs": []
    }
  ]
}