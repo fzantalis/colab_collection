{
  "cells": [
    {
      "cell_type": "markdown",
      "metadata": {
        "id": "view-in-github",
        "colab_type": "text"
      },
      "source": [
        "<a href=\"https://colab.research.google.com/github/fzantalis/colab_collection/blob/master/Audio_Keyframe_Generator_For_Deforum_Stable_Diffusion.ipynb\" target=\"_parent\"><img src=\"https://colab.research.google.com/assets/colab-badge.svg\" alt=\"Open In Colab\"/></a>"
      ]
    },
    {
      "cell_type": "markdown",
      "metadata": {
        "id": "ByGXyiHZWM_q"
      },
      "source": [
        "# **Audio Keyframe Generator For Deforum Stable Diffusion**\n",
        "This notebook will automatically generate keyframes for deforum stable diffusion settings\n",
        "\n",
        "[Deforum Stable Diffusion](https://colab.research.google.com/github/fzantalis/deforum-stable-diffusion-audio/blob/main/Deforum_Stable_Diffusion.ipynb) \n",
        "\n",
        "In deforum Stable Diffusion you can control animation settings like zoom/angle etc based on a music aplitudes. To do so, we need to analyze a music track and generate a keyframe string. This notebook automates the whole process for us. \n",
        "\n",
        "More specifically, you can upload a music track and the notebook will decompose the track to separate music elements like drums, bass and vocals. Using a single element to drive the animation settings seems to be working better.\n",
        "\n",
        "Then, based on the music elements a keyframe string is automatically generated."
      ]
    },
    {
      "cell_type": "markdown",
      "source": [
        "#Audio Settings"
      ],
      "metadata": {
        "id": "OoFc9mfefstB"
      }
    },
    {
      "cell_type": "code",
      "source": [
        "#@markdown **1. Install the mandatory libraries. Demucs will help us decompose our music track to seperate instruments and vocals**\n",
        "!pip install -q demucs\n",
        "!pip install -q eyed3"
      ],
      "metadata": {
        "id": "4hq0QLAOfsGA",
        "cellView": "form"
      },
      "execution_count": null,
      "outputs": []
    },
    {
      "cell_type": "code",
      "source": [
        "#@markdown **2. Upload your music track**\n",
        "from google.colab import files \n",
        "uploaded = files.upload() \n",
        "for name, data in uploaded.items():\n",
        "  with open('audio_file.mp3', 'wb') as f:\n",
        "    f.write(data)"
      ],
      "metadata": {
        "id": "WHGxU_YAgMuk",
        "cellView": "form"
      },
      "execution_count": null,
      "outputs": []
    },
    {
      "cell_type": "code",
      "source": [
        "#@markdown **3. Decompose your music track with demucs**\n",
        "!python -m demucs.separate --mp3 --mp3-bitrate=128 audio_file.mp3"
      ],
      "metadata": {
        "id": "9fxgJzgNga_Z",
        "cellView": "form"
      },
      "execution_count": null,
      "outputs": []
    },
    {
      "cell_type": "code",
      "source": [
        "import IPython\n",
        "#@title 4. Select the audio element that you want to isolate\n",
        "element = 'drums' #@param [\"drums\", \"bass\", \"vocals\", \"other\"]\n",
        "audio_file = \"separated/htdemucs/audio_file/\" + element + \".mp3\"\n",
        "IPython.display.Audio(filename=audio_file)"
      ],
      "metadata": {
        "cellView": "form",
        "id": "FjQc9FdvgflB"
      },
      "execution_count": null,
      "outputs": []
    },
    {
      "cell_type": "markdown",
      "source": [
        "### Preview the audio waveform"
      ],
      "metadata": {
        "id": "_KgdDopCgsJv"
      }
    },
    {
      "cell_type": "code",
      "source": [
        "#@markdown **5. Print the audio waveform**\n",
        "import librosa\n",
        "x, sr = librosa.load(audio_file)\n",
        "\n",
        "%matplotlib inline\n",
        "import matplotlib.pyplot as plt\n",
        "import librosa.display\n",
        "plt.figure(figsize=(14, 5))\n",
        "librosa.display.waveplot(x, sr=sr)"
      ],
      "metadata": {
        "id": "sutX7uwegw6D",
        "cellView": "form"
      },
      "execution_count": null,
      "outputs": []
    },
    {
      "cell_type": "code",
      "source": [
        "#@markdown **6. Print the hpss modified waveform**\n",
        "from matplotlib import pyplot as plt\n",
        "import numpy as np\n",
        "\n",
        "wav_harmonic, wav_percussive = librosa.effects.hpss(x, margin=(1.0, 5.0))\n",
        "plt.figure(figsize=(14, 5))\n",
        "librosa.display.waveplot(wav_percussive)"
      ],
      "metadata": {
        "cellView": "form",
        "id": "m1j5wQ27g0wY"
      },
      "execution_count": null,
      "outputs": []
    },
    {
      "cell_type": "code",
      "source": [
        "import eyed3\n",
        "#@title **7. Scale the waveform according to your FPS and Audio duration and get the normalized amplitudes**\n",
        "fps = 24 #@param  {type:\"number\"}\n",
        "n_mels = 512 #@param {type:\"number\"}\n",
        "function = \"1.07 + amplitude**2\" #@param {type:\"string\"}\n",
        "#@markdown This is a function to apply to each frame value, where 'amplitude' is the original amplitude between 0 and 1\n",
        "\n",
        "frame_duration = int(sr / fps)\n",
        "duration = round(eyed3.load(audio_file).info.time_secs)\n",
        "\n",
        "# Generate Mel Spectrogram\n",
        "spec_raw = librosa.feature.melspectrogram(y=wav_percussive, sr=sr, n_mels=n_mels, hop_length=frame_duration)\n",
        "\n",
        "# Obtain maximum value per time-frame\n",
        "spec_max = np.amax(spec_raw, axis=0)\n",
        "\n",
        "# Normalize all values between 0 and 1\n",
        "spec_norm = (spec_max - np.min(spec_max)) / np.ptp(spec_max)\n",
        "\n",
        "# rescale so its exactly the number of frames we want to generate\n",
        "# 3 seconds at 12 fps == 36\n",
        "amplitude_arr = np.resize(spec_norm, int(duration * fps))\n",
        "\n",
        "x = np.arange(amplitude_arr.shape[0]) \n",
        "plt.figure(figsize=(14, 5))\n",
        "plt.plot(x, amplitude_arr) \n",
        "plt.show()"
      ],
      "metadata": {
        "id": "JQSLMRk0hs5e",
        "cellView": "form"
      },
      "execution_count": null,
      "outputs": []
    },
    {
      "cell_type": "code",
      "source": [
        "#@title 8. Generate audio keyframes for zoom\n",
        "keyframe_string=\"\"\n",
        "for i, amplitude in enumerate(amplitude_arr):\n",
        "    y=\"{:.2f}\".format(eval(function))\n",
        "    keyframe_string += str(i) + \": (\" + str(y) + \"), \"\n",
        "\n",
        "print(keyframe_string)"
      ],
      "metadata": {
        "id": "fBVUQVxqh6NT",
        "cellView": "form"
      },
      "execution_count": null,
      "outputs": []
    },
    {
      "cell_type": "code",
      "source": [
        "#@title 9. Generate sample frames for rotate\n",
        "import random\n",
        "keyframe_string=\"\"\n",
        "for i in range(0, len(amplitude_arr), 50):\n",
        "    random_angle = random.randint(-1, 1)\n",
        "    keyframe_string += str(i) + \": (\" + str(random_angle) + \"), \"\n",
        "\n",
        "print(keyframe_string)"
      ],
      "metadata": {
        "id": "xUtvD475GfR9",
        "cellView": "form"
      },
      "execution_count": null,
      "outputs": []
    },
    {
      "cell_type": "markdown",
      "source": [
        "You can now copy/paste the keyframe string to the 'zoom' setting on the [Deforum Stable Diffusion](https://colab.research.google.com/github/fzantalis/deforum-stable-diffusion-audio/blob/main/Deforum_Stable_Diffusion.ipynb) notebook, or play with the function and generate keyframes for any other setting."
      ],
      "metadata": {
        "id": "FK1gJE2WGImP"
      }
    }
  ],
  "metadata": {
    "accelerator": "GPU",
    "colab": {
      "provenance": [],
      "include_colab_link": true
    },
    "gpuClass": "standard",
    "kernelspec": {
      "display_name": "Python 3.10.6 ('dsd')",
      "language": "python",
      "name": "python3"
    },
    "language_info": {
      "codemirror_mode": {
        "name": "ipython",
        "version": 3
      },
      "file_extension": ".py",
      "mimetype": "text/x-python",
      "name": "python",
      "nbconvert_exporter": "python",
      "pygments_lexer": "ipython3",
      "version": "3.10.6"
    },
    "orig_nbformat": 4,
    "vscode": {
      "interpreter": {
        "hash": "b7e04c8a9537645cbc77fa0cbde8069bc94e341b0d5ced104651213865b24e58"
      }
    }
  },
  "nbformat": 4,
  "nbformat_minor": 0
}