{
  "nbformat": 4,
  "nbformat_minor": 0,
  "metadata": {
    "accelerator": "GPU",
    "colab": {
      "name": "ttmai_impersonator_plus_plus.ipynb",
      "provenance": [],
      "collapsed_sections": [],
      "include_colab_link": true
    },
    "kernelspec": {
      "display_name": "Python 3",
      "name": "python3"
    }
  },
  "cells": [
    {
      "cell_type": "markdown",
      "metadata": {
        "id": "view-in-github",
        "colab_type": "text"
      },
      "source": [
        "<a href=\"https://colab.research.google.com/github/fzantalis/colab_collection/blob/master/ttmai_impersonator_plus_plus.ipynb\" target=\"_parent\"><img src=\"https://colab.research.google.com/assets/colab-badge.svg\" alt=\"Open In Colab\"/></a>"
      ]
    },
    {
      "cell_type": "markdown",
      "metadata": {
        "id": "2-7h5e_YtHvz"
      },
      "source": [
        "# Impersonator++\n",
        "## Με αυτό το Jupyter Notebook μπορούμε να αντιγράψουμε τις κινήσεις ενός ανθρώπου σε ένα βίντεο και να τις μεταφέρουμε σε μία φωτογραφία ενός άλλου ανθρώπου.\n",
        "\n",
        "## Το notepad αυτό είναι μια παραλαγή του notebook που παρέχεται από το project των δημιουργών στους παρακάτω συνδέσμους\n",
        "\n",
        "Σύνδεσμοι:\n",
        "\n",
        "[![GitHub stars](https://img.shields.io/github/stars/iPERDance/iPERCore?style=social)](https://github.com/iPERDance/iPERCore)\n",
        "\n",
        "- Paper: https://arxiv.org/pdf/2011.09055.pdf\n",
        "- Repo: https://github.com/iPERDance/iPERCore\n",
        "- Project Page: https://www.impersonator.org/work/impersonator-plus-plus.html\n",
        "- Dataset https://svip-lab.github.io/dataset/iPER_dataset.html\n",
        "- Forum https://discuss.impersonator.org/\n",
        "\n",
        "\n"
      ]
    },
    {
      "cell_type": "markdown",
      "metadata": {
        "id": "HFLXe4HasHgr"
      },
      "source": [
        "## Σημείωση\n",
        "Πριν ξεκινήσουμε επιβεβαιώστε ότι έχουμε επιλεγμένη την χρήση κάρτας γραφικών στις ρυθμίσεις του notepad. Πατάμε: Edit > Notebook settings > Hardware Accelerator > και επιλέγουμε \"GPU\"."
      ]
    },
    {
      "cell_type": "code",
      "metadata": {
        "colab": {
          "base_uri": "https://localhost:8080/",
          "height": 580
        },
        "id": "hCqM2xQitKXj",
        "outputId": "69d225ba-7ed1-46b1-98da-4d4845e02a50"
      },
      "source": [
        "#%%\n",
        " \n",
        "import IPython\n",
        "IPython.display.HTML(\n",
        "   '<h2>Demo</h2><iframe width=\"75%\" height=\"512\" src=\"https://www.impersonator.org/project_img/impersonator_plus_plus/demo_video/demo_1_512x512.mp4\" frameborder=\"0\" allow=\"accelerometer; autoplay; encrypted-media; gyroscope; picture-in-picture\" allowfullscreen></iframe>'\n",
        ")"
      ],
      "execution_count": null,
      "outputs": [
        {
          "output_type": "execute_result",
          "data": {
            "text/html": [
              "<h2>Demo</h2><iframe width=\"75%\" height=\"512\" src=\"https://www.impersonator.org/project_img/impersonator_plus_plus/demo_video/demo_1_512x512.mp4\" frameborder=\"0\" allow=\"accelerometer; autoplay; encrypted-media; gyroscope; picture-in-picture\" allowfullscreen></iframe>"
            ],
            "text/plain": [
              "<IPython.core.display.HTML object>"
            ]
          },
          "metadata": {
            "tags": []
          },
          "execution_count": 1
        }
      ]
    },
    {
      "cell_type": "markdown",
      "metadata": {
        "id": "CHOju21fukSF"
      },
      "source": [
        "# Προαπαιτούμενα πακέτα για όποιον θέλει να το τρέξει σε δικό του Hardware. Αν το δοκιμάζετε απλώς εδώ στο colab μπορείτε να αγνοήσετε τις παρακάτω πληροφορίες\n",
        "\n",
        "## System Requirements\n",
        " - Linux (test on Ubuntu 16.04 and 18.04) or Windows (test on windows 10)\n",
        " - CUDA 10.1, 10.2, or 11.0\n",
        " - gcc 7.5+ (needs to support C++14)\n",
        " - ffmpeg (ffprobe) 4.3.1+\n",
        "\n",
        "## Python Requirements\n",
        "  - Python 3.6+\n",
        "  - PyTorch tested on 1.7.0\n",
        "  - Torchvison tested on 0.8.1\n",
        "  - mmcv-full test on 1.2.0\n",
        "  - numpy>=1.19.3\n",
        "  - scipy>=1.5.2\n",
        "  - scikit-image>=0.17.2\n",
        "  - opencv-python>=4.4.0.40\n",
        "  - tensorboardX>=2.1\n",
        "  - tqdm>=4.48.2\n",
        "  - visdom>=0.1.8.9\n",
        "  - easydict>=1.9\n",
        "  - toml>=0.10.2\n",
        "  - git+https://github.com/open-mmlab/mmdetection.git@8179440ec5f75fe95484854af61ce6f6279f3bbc\n",
        "  - git+https://github.com/open-mmlab/mmediting@d4086aaf8a36ae830f1714aad585900d24ad1156\n",
        "  - git+https://github.com/iPERDance/neural_renderer.git@e5f54f71a8941acf372514eb92e289872f272653"
      ]
    },
    {
      "cell_type": "markdown",
      "metadata": {
        "id": "MQTh8Pl_w4MK"
      },
      "source": [
        "# 1. Εγκατάσταση\n"
      ]
    },
    {
      "cell_type": "markdown",
      "metadata": {
        "id": "rTjLpNgipXPR"
      },
      "source": [
        "## 1.1 Εγκατάσταση του προγράμματος ffmpeg (ffprobe) και ορισμός της μεταβλητής CUDA_HOME "
      ]
    },
    {
      "cell_type": "code",
      "metadata": {
        "id": "3vPl00TgplS-"
      },
      "source": [
        "# Install ffmpeg (ffprobe)\n",
        "!apt-get install ffmpeg"
      ],
      "execution_count": null,
      "outputs": []
    },
    {
      "cell_type": "code",
      "metadata": {
        "id": "Q45P7Uicpsuc"
      },
      "source": [
        "# set CUDA_HOME, here we use CUDA 10.1\n",
        "import os\n",
        "os.environ[\"CUDA_HOME\"] = \"/usr/local/cuda-10.1\"\n",
        " \n",
        "!echo $CUDA_HOME"
      ],
      "execution_count": null,
      "outputs": []
    },
    {
      "cell_type": "markdown",
      "metadata": {
        "id": "uYAJxIf9xBxU"
      },
      "source": [
        "## 1.1 Αντιγράφουμε το iPERCore Github Repo"
      ]
    },
    {
      "cell_type": "code",
      "metadata": {
        "id": "5J6oiRq1xKvm"
      },
      "source": [
        "!git clone https://github.com/iPERDance/iPERCore.git"
      ],
      "execution_count": null,
      "outputs": []
    },
    {
      "cell_type": "markdown",
      "metadata": {
        "id": "4Y9-b45uwx4f"
      },
      "source": [
        "## 1.2 Ρυθμίσεις για το iPERCore"
      ]
    },
    {
      "cell_type": "code",
      "metadata": {
        "id": "8aXNebVxv72E"
      },
      "source": [
        "cd /content/iPERCore/"
      ],
      "execution_count": null,
      "outputs": []
    },
    {
      "cell_type": "code",
      "metadata": {
        "id": "eZAZlLRHH2lq"
      },
      "source": [
        "!python setup.py develop"
      ],
      "execution_count": null,
      "outputs": []
    },
    {
      "cell_type": "markdown",
      "metadata": {
        "id": "b1DYsa76zvMY"
      },
      "source": [
        "## 1.3 Κατεβάζουμε το εκπαιδευμένο μοντέλο και τα παραδείγματα των βίντεο εισόδου που θέλουμε.\n",
        "\n",
        "\n",
        "\n"
      ]
    },
    {
      "cell_type": "code",
      "metadata": {
        "id": "yqFnPDBHN5WO"
      },
      "source": [
        "# Download all checkpoints\n",
        "!wget -O assets/checkpoints.zip \"https://nas.koulouras.gr/index.php/s/qSB4WrG9pLDJAq4/download\"\n",
        "!unzip -o assets/checkpoints.zip -d assets/\n",
        " \n",
        "!rm assets/checkpoints.zip"
      ],
      "execution_count": null,
      "outputs": []
    },
    {
      "cell_type": "code",
      "metadata": {
        "id": "-_QjX1FzsEQI"
      },
      "source": [
        "# download samples\n",
        "!wget -O assets/samples.zip  \"https://nas.koulouras.gr/index.php/s/iRrjMySpm2Y8dcM/download\"\n",
        "!unzip -o assets/samples.zip -d  assets\n",
        "!rm assets/samples.zip"
      ],
      "execution_count": null,
      "outputs": []
    },
    {
      "cell_type": "markdown",
      "metadata": {
        "id": "Ffbq0leDOUGS"
      },
      "source": [
        "# Ετοιμαζόμαστε να τρέξουμε την εφαρμογή"
      ]
    },
    {
      "cell_type": "code",
      "metadata": {
        "id": "y9KymQM8z6sH"
      },
      "source": [
        "cd /content/iPERCore/"
      ],
      "execution_count": null,
      "outputs": []
    },
    {
      "cell_type": "code",
      "metadata": {
        "id": "BJskZDTiEKMB"
      },
      "source": [
        "import os\n",
        "import os.path as osp\n",
        "import platform\n",
        "import argparse\n",
        "import time\n",
        "import sys\n",
        "import subprocess\n",
        "from IPython.display import HTML\n",
        "from base64 import b64encode"
      ],
      "execution_count": null,
      "outputs": []
    },
    {
      "cell_type": "markdown",
      "metadata": {
        "id": "lo9IgZwsOmBd"
      },
      "source": [
        "## Περιγραφή όλων των ρυθμίσεων για περίεργους χρήστες. Αγνοήστε το αν θέλετε απλά να τρέξετε το παράδειγμα\n",
        " - gpu_ids (str): the gpu_ids, default is \"0\";\n",
        " - image_size (int): the image size, default is 512;\n",
        " - num_source (int): the number of source images for Attention, default is 2. Large needs more GPU memory;\n",
        " - assets_dir (str): the assets directory. This is very important, and there are the configurations and all pre-trained checkpoints;\n",
        " - output_dir (str): the output directory;\n",
        "\n",
        " - src_path (str): the source input information. \n",
        "       All source paths and it supports multiple paths, uses \"|\" as the separator between all paths. \n",
        "       The format is \"src_path_1|src_path_2|src_path_3\". \n",
        "       \n",
        "       Each src_input is \"path?=path1,name?=name1,bg_path?=bg_path1\". \n",
        "       \n",
        "       It must contain 'path'. If 'name' and 'bg_path' are empty, they will be ignored.\n",
        "\n",
        "       The 'path' could be an image path, a path of a directory contains source images, and a video path.\n",
        "\n",
        "       The 'name' is the rename of this source input, if it is empty, we will ignore it, and use the filename of the path.\n",
        "\n",
        "       The 'bg_path' is the actual background path if provided, otherwise we will ignore it.\n",
        "       \n",
        "       There are several examples of formated source paths,\n",
        "\n",
        "        1. \"path?=path1,name?=name1,bg_path?=bg_path1|path?=path2,name?=name2,bg_path?=bg_path2\",\n",
        "        this input will be parsed as [{path: path1, name: name1, bg_path:bg_path1},\n",
        "        {path: path2, name: name2, bg_path: bg_path2}];\n",
        "\n",
        "        2. \"path?=path1,name?=name1|path?=path2,name?=name2\", this input will be parsed as\n",
        "        [{path: path1, name:name1}, {path: path2, name: name2}];\n",
        "\n",
        "        3. \"path?=path1\", this input will be parsed as [{path: path1}].\n",
        "\n",
        "        4. \"path1\", this will be parsed as [{path: path1}].\n",
        "\n",
        " - ref_path (str): the reference input information.\n",
        "       \n",
        "       All reference paths. It supports multiple paths, and uses \"|\" as the separator between all paths.\n",
        "       The format is \"ref_path_1|ref_path_2|ref_path_3\".\n",
        "\n",
        "       Each ref_path is \"path?=path1,name?=name1,audio?=audio_path1,fps?=30,pose_fc?=300,cam_fc?=150\".\n",
        "\n",
        "       It must contain 'path', and others could be empty, and they will be ignored.\n",
        "\n",
        "       The 'path' could be an image path, a path of a directory contains images of a same person, and a video path.\n",
        "\n",
        "       The 'name' is the rename of this source input, if it is empty, we will ignore it, and use the filename of the path.\n",
        "\n",
        "       The 'audio' is the audio path, if it is empty, we will ignore it. If the 'path' is a video,\n",
        "        you can ignore this, and we will firstly extract the audio information of this video (if it has audio channel).\n",
        "\n",
        "       The 'fps' is fps of the final outputs, if it is empty, we will set it as the default fps 25.\n",
        "\n",
        "       The 'pose_fc' is the smooth factor of the temporal poses. The smaller of this value, the smoother of the temporal poses. If it is empty, we will set it as the default 300. In the most cases, using the default 300 is enough, and if you find the poses of the outputs are not stable, you can decrease this value. Otherwise, if you find the poses of the outputs are over stable, you can increase this value.\n",
        "\n",
        "       The 'cam_fc' is the smooth factor of the temporal cameras (locations in the image space). The smaller of this value, the smoother of the locations in sequences. If it is empty, we will set it as the default 150. In the most cases, the default 150 is enough.\n",
        "\n",
        "       There are several examples of formated reference paths,\n",
        "\n",
        "        1. \"path?=path1,name?=name1,audio?=audio_path1,fps?=30,pose_fc?=300,cam_fc?=150|\n",
        "            path?=path2,name?=name2,audio?=audio_path2,fps?=25,pose_fc?=450,cam_fc?=200\",\n",
        "            this input will be parsed as\n",
        "            [{path: path1, name: name1, audio: audio_path1, fps: 30, pose_fc: 300, cam_fc: 150},\n",
        "             {path: path2, name: name2, audio: audio_path2, fps: 25, pose_fc: 450, cam_fc: 200}]\n",
        "\n",
        "        2. \"path?=path1,name?=name1, pose_fc?=450|path?=path2,name?=name2\", this input will be parsed as\n",
        "        [{path: path1, name: name1, fps: 25, pose_fc: 450, cam_fc: 150},\n",
        "         {path: path2, name: name2, fps: 25, pose_fc: 300, cam_fc: 150}].\n",
        "\n",
        "        3. \"path?=path1|path?=path2\", this input will be parsed as\n",
        "        [{path: path1, fps:25, pose_fc: 300, cam_fc: 150}, {path: path2, fps: 25, pose_fc: 300, cam_fc: 150}].\n",
        "\n",
        "        4. \"path1|path2\", this input will be parsed as\n",
        "        [{path: path1, fps:25, pose_fc: 300, cam_fc: 150}, {path: path2, fps: 25, pose_fc: 300, cam_fc: 150}].\n",
        "\n",
        "        5. \"path1\", this will be parsed as [{path: path1, fps: 25, pose_fc: 300, cam_fc: 150}]."
      ]
    },
    {
      "cell_type": "markdown",
      "metadata": {
        "id": "vme5bj8xmfsC"
      },
      "source": [
        "## Τρέχουμε τα scriptάκια!\n"
      ]
    },
    {
      "cell_type": "code",
      "metadata": {
        "id": "QNWVyAaeOhHP"
      },
      "source": [
        "# the gpu ids\n",
        "gpu_ids = \"0\"\n",
        " \n",
        "# the image size\n",
        "image_size = 512\n",
        " \n",
        "# the assets directory. This is very important, please download it from `one_drive_url` firstly.\n",
        "assets_dir = \"/content/iPERCore/assets\"\n",
        " \n",
        "# the output directory.\n",
        "output_dir = \"./results\"\n",
        " \n",
        "# the model id of this case. This is a random model name.\n",
        "# model_id = \"model_\" + str(time.time())\n",
        " \n",
        "# # This is a specific model name, and it will be used if you do not change it.\n",
        "# model_id = \"axing_1\"\n",
        " \n",
        "# symlink from the actual assets directory to this current directory\n",
        "work_asserts_dir = os.path.join(\"./assets\")\n",
        "if not os.path.exists(work_asserts_dir):\n",
        "    os.symlink(osp.abspath(assets_dir), osp.abspath(work_asserts_dir),\n",
        "               target_is_directory=(platform.system() == \"Windows\"))\n",
        " \n",
        "cfg_path = osp.join(work_asserts_dir, \"configs\", \"deploy.toml\")"
      ],
      "execution_count": null,
      "outputs": []
    },
    {
      "cell_type": "markdown",
      "metadata": {
        "id": "g7oH0Np6bpgb"
      },
      "source": [
        "### Τρέχοντας με τα δικά μας δεδομένα\n"
      ]
    },
    {
      "cell_type": "markdown",
      "metadata": {
        "id": "bH9QHYKUiqXH"
      },
      "source": [
        "#### Εικόνα πηγή:\n",
        " - Στο επόμενο βήμα θα έχουμε την επιλογή να ανεβάσουμε την εικόνα ενός ανθρώπου που θέλουμε να τον κάνουμε να χορέψει.\n",
        " - Η εικόνα πρέπει να είναι ολόσωμη και να φαίνονται και τα πόδια για να έχουμε σωστά αποτελέσματα.\n",
        " - Ιδανικά θέλουμε το σώμα του ανθρώπου να βρίσκεται σε μία πόζα \"Α\". Δηλαδή να κοιτάει ευθεία την κάμερα με τα πόδια και τα χέρια ελαφρώς ανοιχτά προς τα κάτω.\n",
        " - Για ακόμα καλύτερα αποτελέσματα, στο επόμενο βήμα μπορούμε να παίξουμε με τις επιλογές και να ανεβάσουμε και μία εικόνα με την πίσω όψη του ανθρώπου και ακόμα μία εικόνα με το background χωρις τον άνθρωπο. (Αυτές οι επιλογές είναι προεραιτικές)\n",
        "\n",
        " #### Βίντεο πηγή:\n",
        " - Για το βίντεο απ όπου θα αντιγράψουμε τις κινήσεις, έχουμε ήδη μία μεγάλη επιλογή από έτοιμα παραδείγματα για να επιλέξετε από ένα dropdown menu. Παρόλα αυτά, μπορούμε να ανεβάσουμε και ένα δικό μας βίντεο. Στο βίντεο αυτό θα πρέπει να φαίνεται μόνο ένας άνθρωπος. Ολόκληρος, και να μην αλλάζουν οι λήψεις της κάμερας. Να είναι όλο το κλιπ τραβηγμένο από ένα σημείο."
      ]
    },
    {
      "cell_type": "code",
      "metadata": {
        "id": "pK6Z7kZwHKMK",
        "cellView": "form"
      },
      "source": [
        "#@title Ρυθμίσεις του μοντέλου και εκτέλεση\n",
        "#@markdown Επιλέξτε ένα βίντεο αναφοράς\n",
        "reference_video = \"akun_1.mp4\" #@param  ['kuailechongbai_boy.mp4', 'chengfengpolang_1.mp4', 'Av37667655_2.mp4', 'akun_1.mp4', 'BV1rD4y1Q72j_2.mp4', 'akGexYZug2Q_2.mp4.mp4', 'aini.mp4', 'mabaoguo_short.mp4', 'mabaoguo.mp4', 'bantangzhuyi_1.mp4', 'akun_2.mp4']\n",
        "#@markdown Θέλετε να προσθέσετε και φωτογραφία με την πίσω όψη του ανθρώπου;\n",
        "back_photo = \"NO\" #@param [\"YES\", \"NO\"]\n",
        "#@markdown Θέλετε να προσθέσετε και φωτογραφία με κενό background;\n",
        "bg_photo = \"NO\" #@param [\"YES\", \"NO\"]\n",
        "#@markdown Ρυθμίστε την ευαισθησία του μοντέλου. \n",
        "fc = 400 #@param {type:\"slider\", min:100, max:500, step:1}\n",
        " \n",
        " \n",
        "import os\n",
        " \n",
        "ref_name = reference_video.split(\".\")[0]\n",
        "src_p = \"/content/iPERCore/assets/samples/sources/\"\n",
        " \n",
        "print(\"Ανέβασε την φωτογραφία με την μπροστινή όψη του ανθρώπου:\")\n",
        "from google.colab import files \n",
        "uploaded = files.upload() \n",
        "for si in uploaded.keys():\n",
        "  print('User uploaded file \"{name}\" with length {length} bytes'.format(\n",
        "      name=si, length=len(uploaded[si])))\n",
        "  \n",
        "model_id = si.split(\".\")[0]\n",
        "!rm -rf $src_p/$model_id\n",
        "!mkdir -p $src_p/$model_id\n",
        " \n",
        "if back_photo == \"YES\":\n",
        "  print(\"Ανέβασε την φωτογραφία με την πίσω όψη του ανθρώπου:\")\n",
        "  uploaded = files.upload() \n",
        "  for bi in uploaded.keys():\n",
        "    print('User uploaded file \"{name}\" with length {length} bytes'.format(\n",
        "        name=bi, length=len(uploaded[bi])))\n",
        "    \n",
        "if bg_photo == \"YES\":\n",
        "  print(\"Ανέβασε την φωτογραφία με το κενό background:\")\n",
        "  uploaded = files.upload() \n",
        "  for bgi in uploaded.keys():\n",
        "    print('User uploaded file \"{name}\" with length {length} bytes'.format(\n",
        "        name=bgi, length=len(uploaded[bgi])))\n",
        "    \n",
        " \n",
        "if back_photo == \"NO\" and bg_photo == \"NO\":\n",
        "  num_source = 1\n",
        "  !mv $si $src_p/$model_id/\n",
        "  src_path = \"\\\"path?=/content/iPERCore/assets/samples/sources/\" + model_id + \"/\" + si + \",name?=\" + model_id + \"\\\"\"\n",
        "elif back_photo == \"NO\" and bg_photo == \"YES\":\n",
        "  num_source = 2\n",
        "  !mv $si $src_p/$model_id/\n",
        "  !mv $bgi $src_p/$model_id/\n",
        "  src_path = \"\\\"path?=/content/iPERCore/assets/samples/sources/\" + model_id + \"/\" + si + \",name?=\" + model_id + \"\\\"\" \\\n",
        "             \"bg_path?=/content/iPERCore/assets/samples/sources/\" + model_id + \"/\" + bgi + \"\\\"\"\n",
        "elif back_photo == \"YES\" and bg_photo == \"NO\":\n",
        "  num_source = 2\n",
        "  !mkdir -p $src_p/$model_id/${model_id}2\n",
        "  !mv $si $src_p/$model_id/${model_id}2/\n",
        "  !mv $bi $src_p/$model_id/${model_id}2/\n",
        "  src_path = \"\\\"path?=/content/iPERCore/assets/samples/sources/\" + model_id + \"/\" + model_id + \"2,\" \\\n",
        "               \"name?=\" + model_id + \"2\\\"\" \n",
        "else:\n",
        "  num_source = 2\n",
        "  !mkdir -p $src_p/$model_id/${model_id}2\n",
        "  !mv $si $src_p/$model_id/${model_id}2/\n",
        "  !mv $bi $src_p/$model_id/${model_id}2/\n",
        "  !mv $bgi $src_p/$model_id/\n",
        "  src_path = \"\\\"path?=/content/iPERCore/assets/samples/sources/afan_6/afan_6=ns=2,\" \\\n",
        "             \"name?=\" + model_id + \"2,\" \\\n",
        "             \"bg_path?=/content/iPERCore/assets/samples/sources/\" + model_id + \"/\" + bgi + \"\\\"\"\n",
        " \n",
        " \n",
        " \n",
        " \n",
        "src_path = \"\\\"path?=/content/iPERCore/assets/samples/sources/\" + model_id + \"/\" + si + \",name?=\" + model_id + \"\\\"\"\n",
        " \n",
        "ref_path = \"\\\"path?=/content/iPERCore/assets/samples/references/\" + reference_video + \",\" \\\n",
        "              \"name?=\" + ref_name + \",\" \\\n",
        "              \"pose_fc?=\" + str(fc) + \"\\\"\"\n",
        " \n",
        "print(ref_path)\n",
        " \n",
        "!python -m iPERCore.services.run_imitator  \\\n",
        "  --gpu_ids     $gpu_ids       \\\n",
        "  --num_source  $num_source    \\\n",
        "  --image_size  $image_size    \\\n",
        "  --output_dir  $output_dir    \\\n",
        "  --model_id    $model_id      \\\n",
        "  --cfg_path    $cfg_path      \\\n",
        "  --src_path    $src_path      \\\n",
        "  --ref_path    $ref_path"
      ],
      "execution_count": null,
      "outputs": []
    },
    {
      "cell_type": "markdown",
      "metadata": {
        "id": "z1N6-QjH_QS5"
      },
      "source": [
        "# Εμφανίστε το βίντεο στην οθόνη σας"
      ]
    },
    {
      "cell_type": "code",
      "metadata": {
        "id": "9qqswnwrsvBi"
      },
      "source": [
        "mp4 = open(\"./results/primitives/\" + model_id + \"/synthesis/imitations/\" + model_id + \"-\" + ref_name + \".mp4\", \"rb\").read()\n",
        "data_url = \"data:video/mp4;base64,\" + b64encode(mp4).decode()\n",
        "HTML(f\"\"\"\n",
        "<video width=\"100%\" height=\"100%\" controls>\n",
        "      <source src=\"{data_url}\" type=\"video/mp4\">\n",
        "</video>\"\"\")"
      ],
      "execution_count": null,
      "outputs": []
    }
  ]
}