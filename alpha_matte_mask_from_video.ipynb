{
  "nbformat": 4,
  "nbformat_minor": 0,
  "metadata": {
    "colab": {
      "provenance": [],
      "machine_shape": "hm",
      "include_colab_link": true
    },
    "kernelspec": {
      "name": "python3",
      "display_name": "Python 3"
    },
    "accelerator": "GPU",
    "gpuClass": "standard"
  },
  "cells": [
    {
      "cell_type": "markdown",
      "metadata": {
        "id": "view-in-github",
        "colab_type": "text"
      },
      "source": [
        "<a href=\"https://colab.research.google.com/github/fzantalis/colab_collection/blob/master/alpha_matte_mask_from_video.ipynb\" target=\"_parent\"><img src=\"https://colab.research.google.com/assets/colab-badge.svg\" alt=\"Open In Colab\"/></a>"
      ]
    },
    {
      "cell_type": "markdown",
      "source": [
        "# This notebook takes a video input and creates an inverted alpha masked video as an output. Due to GPU memory limitations, please use up to 480p videos."
      ],
      "metadata": {
        "id": "xsVnOB1q6q4-"
      }
    },
    {
      "cell_type": "code",
      "metadata": {
        "id": "82SxF8KzmZqy",
        "cellView": "form"
      },
      "source": [
        "#@markdown **2. Upload your video**\n",
        "from google.colab import files \n",
        "uploaded = files.upload() \n",
        "for name, data in uploaded.items():\n",
        "  with open('video_file.mp4', 'wb') as f:\n",
        "    f.write(data)\n",
        "\n",
        "%mkdir -p input\n",
        "%mkdir -p output\n"
      ],
      "execution_count": null,
      "outputs": []
    },
    {
      "cell_type": "code",
      "source": [
        "#@title **Break the video to frames**\n",
        "import cv2\n",
        "\n",
        "# Open the video file\n",
        "video = cv2.VideoCapture(\"video_file.mp4\")\n",
        "\n",
        "# Get the video frames per second (fps)\n",
        "fps = video.get(cv2.CAP_PROP_FPS)\n",
        "\n",
        "# Get the total number of frames in the video\n",
        "num_frames = int(video.get(cv2.CAP_PROP_FRAME_COUNT))\n",
        "\n",
        "# Create a variable to keep track of the current frame number\n",
        "frame_num = 0\n",
        "\n",
        "# Iterate through each frame in the video\n",
        "while True:\n",
        "    # Read the next frame\n",
        "    ret, frame = video.read()\n",
        "\n",
        "    # Break the loop if we've reached the end of the video\n",
        "    if not ret:\n",
        "        break\n",
        "\n",
        "    # Save the current frame as an image\n",
        "    filename = f\"input/frame_{frame_num:04}.jpg\"\n",
        "    cv2.imwrite(filename, frame)\n",
        "\n",
        "    # Increment the frame number\n",
        "    frame_num += 1\n",
        "\n",
        "# Release the video capture object\n",
        "video.release()"
      ],
      "metadata": {
        "id": "ZHlsc9sNaB-V",
        "cellView": "form"
      },
      "execution_count": null,
      "outputs": []
    },
    {
      "cell_type": "code",
      "metadata": {
        "id": "3G9OE7rSnyTG",
        "cellView": "form"
      },
      "source": [
        "#@title **Display a sample frame**\n",
        "from PIL import Image\n",
        "import matplotlib.pyplot as plt\n",
        "import torch\n",
        "import cv2\n",
        "\n",
        "img = cv2.imread(\"input/frame_0001.jpg\", cv2.IMREAD_COLOR)\n",
        "plt.imshow(img); plt.show()\n"
      ],
      "execution_count": null,
      "outputs": []
    },
    {
      "cell_type": "code",
      "metadata": {
        "id": "AHZUL3BCpali",
        "cellView": "form"
      },
      "source": [
        "#@title **Define helper functions and download segmentation model deeplabv3_resnet101**\n",
        "from google.colab import files\n",
        "import torchvision.transforms as T\n",
        "import numpy as np\n",
        "\n",
        "# Define the helper function\n",
        "def decode_segmap(image, nc=21):\n",
        "  \n",
        "  label_colors = np.array([(0, 0, 0),  # 0=background\n",
        "               # 1=aeroplane, 2=bicycle, 3=bird, 4=boat, 5=bottle\n",
        "               (0, 0, 0), (0, 0, 0), (0, 0, 0), (0, 0, 0), (0, 0, 0),\n",
        "               # 6=bus, 7=car, 8=cat, 9=chair, 10=cow\n",
        "                (0, 0, 0), (0, 0, 0), (0, 0, 0), (0, 0, 0), (0, 0, 0),\n",
        "               # 11=dining table, 12=dog, 13=horse, 14=motorbike, 15=person\n",
        "               (0, 0, 0), (0, 0, 0), (0, 0, 0), (0, 0, 0), (255, 255, 255),\n",
        "               # 16=potted plant, 17=sheep, 18=sofa, 19=train, 20=tv/monitor\n",
        "              (0, 0, 0), (0, 0, 0), (0, 0, 0), (0, 0, 0), (0, 0, 0)])\n",
        "\n",
        "  r = np.zeros_like(image).astype(np.uint8)\n",
        "  g = np.zeros_like(image).astype(np.uint8)\n",
        "  b = np.zeros_like(image).astype(np.uint8)\n",
        "  \n",
        "  for l in range(0, nc):\n",
        "    idx = image == l\n",
        "    r[idx] = label_colors[l, 0]\n",
        "    g[idx] = label_colors[l, 1]\n",
        "    b[idx] = label_colors[l, 2]\n",
        "    \n",
        "  rgb = np.stack([r, g, b], axis=2)\n",
        "  return rgb\n",
        "\n",
        "def segment(net, path, show_orig=False, dev='cuda'):\n",
        "  output_file = path.split('/')[-1]\n",
        "  img = Image.open(path)\n",
        "  if show_orig: plt.imshow(img); plt.axis('off'); plt.show()\n",
        "  # Comment the Resize and CenterCrop for better inference results\n",
        "  trf = T.Compose([#T.Resize(640), \n",
        "                   #T.CenterCrop(224), \n",
        "                   T.ToTensor(), \n",
        "                   T.Normalize(mean = [0.485, 0.456, 0.406], \n",
        "                               std = [0.229, 0.224, 0.225])])\n",
        "  inp = trf(img).unsqueeze(0).to(dev)\n",
        "  out = net.to(dev)(inp)['out']\n",
        "  om = torch.argmax(out.squeeze(), dim=0).detach().cpu().numpy()\n",
        "  rgb = decode_segmap(om)\n",
        "  rgb = 255 - rgb\n",
        "  plt.imshow(rgb); plt.axis('off'); plt.show()\n",
        "  cv2.imwrite('output/'+output_file , rgb)\n",
        "  return rgb\n",
        "\n",
        "from torchvision import models\n",
        "\n",
        "dlab = models.segmentation.deeplabv3_resnet101(pretrained=1).eval()\n"
      ],
      "execution_count": null,
      "outputs": []
    },
    {
      "cell_type": "code",
      "metadata": {
        "id": "mE7i5D_VqTBD",
        "cellView": "form"
      },
      "source": [
        "#@title create alpha matte mask for every frame\n",
        "import os\n",
        "\n",
        "folder_path = \"input\"\n",
        "\n",
        "# Get a list of all files in the folder\n",
        "files = os.listdir(folder_path)\n",
        "\n",
        "# Sort the list of files in alphabetical order\n",
        "files.sort()\n",
        "\n",
        "# Loop through the files\n",
        "for file in files:\n",
        "    # Get the full path of the file\n",
        "    file_path = os.path.join(folder_path, file)\n",
        "    # Check if the file is a file and not a directory\n",
        "    if os.path.isfile(file_path):\n",
        "        rgb=segment(dlab, file_path)\n",
        "        print(file)\n"
      ],
      "execution_count": null,
      "outputs": []
    },
    {
      "cell_type": "code",
      "source": [
        "#@title **Create a video from masked frames**\n",
        "!ffmpeg -framerate 24 -pattern_type glob -i 'output/*.jpg' -c:v libx264 -pix_fmt yuv420p output.mp4\n"
      ],
      "metadata": {
        "id": "2XwgRRTHeOvZ",
        "cellView": "form"
      },
      "execution_count": null,
      "outputs": []
    },
    {
      "cell_type": "code",
      "source": [
        "#@title **Display the masked video**\n",
        "from IPython.display import HTML\n",
        "from base64 import b64encode\n",
        "mp4 = open('output.mp4','rb').read()\n",
        "data_url = \"data:video/mp4;base64,\" + b64encode(mp4).decode()\n",
        "HTML(\"\"\"\n",
        "<video width=720 controls>\n",
        "      <source src=\"%s\" type=\"video/mp4\">\n",
        "</video>\n",
        "\"\"\" % data_url)"
      ],
      "metadata": {
        "cellView": "form",
        "id": "TIptQwerEX2m"
      },
      "execution_count": null,
      "outputs": []
    },
    {
      "cell_type": "code",
      "source": [
        "#@title Delete all files to mask a new video (edit and uncomment first)\n",
        "#!rm -f input/*\n",
        "#!rm -f outpu/*\n",
        "#!rm -f video_file.mp4 output.mp4"
      ],
      "metadata": {
        "id": "WOBAoW_6DAPf",
        "cellView": "form"
      },
      "execution_count": null,
      "outputs": []
    }
  ]
}