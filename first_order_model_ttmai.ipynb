{
  "nbformat": 4,
  "nbformat_minor": 0,
  "metadata": {
    "colab": {
      "name": "first-order-model-ttmai.ipynb",
      "provenance": [],
      "toc_visible": true,
      "include_colab_link": true
    },
    "kernelspec": {
      "name": "python3",
      "display_name": "Python 3"
    },
    "accelerator": "GPU"
  },
  "cells": [
    {
      "cell_type": "markdown",
      "metadata": {
        "id": "view-in-github",
        "colab_type": "text"
      },
      "source": [
        "<a href=\"https://colab.research.google.com/github/fzantalis/colab_collection/blob/master/first_order_model_ttmai.ipynb\" target=\"_parent\"><img src=\"https://colab.research.google.com/assets/colab-badge.svg\" alt=\"Open In Colab\"/></a>"
      ]
    },
    {
      "cell_type": "markdown",
      "metadata": {
        "id": "cdO_RxQZLahB",
        "colab_type": "text"
      },
      "source": [
        "# Demo for paper \"First Order Motion Model for Image Animation\""
      ]
    },
    {
      "cell_type": "markdown",
      "metadata": {
        "id": "GCDNKsEGLtR6",
        "colab_type": "text"
      },
      "source": [
        "**Αντιγράφουμε τα αρχεία που χρειαζόμαστε από το official github repository**"
      ]
    },
    {
      "cell_type": "code",
      "metadata": {
        "id": "UCMFMJV7K-ag",
        "colab_type": "code",
        "colab": {}
      },
      "source": [
        "!git clone https://github.com/AliaksandrSiarohin/first-order-model"
      ],
      "execution_count": null,
      "outputs": []
    },
    {
      "cell_type": "markdown",
      "metadata": {
        "id": "qAxzvVeI58L5",
        "colab_type": "text"
      },
      "source": [
        "Εγκατάσταση των προγραμμάτων autocrop και gdwon (Θα τα χρειαστούμε στην συνέχεια)."
      ]
    },
    {
      "cell_type": "code",
      "metadata": {
        "id": "cbjHV6Ru4o3A",
        "colab_type": "code",
        "colab": {}
      },
      "source": [
        "!pip install autocrop\n",
        "!pip install gdown"
      ],
      "execution_count": null,
      "outputs": []
    },
    {
      "cell_type": "markdown",
      "metadata": {
        "id": "ZaHs0zSPFxyr",
        "colab_type": "text"
      },
      "source": [
        "**Restart Runtime**\n",
        "\n",
        "Επιλέγουμε από το μενού (Runtime -> Restart Runtime).\n",
        "\n",
        "Ή πατάμε τα πλήκτρα συντόμευσης ( Ctrl + M + . )   (ναι.. πατάμε και την τελεία)"
      ]
    },
    {
      "cell_type": "markdown",
      "metadata": {
        "id": "GMtRy57_vqkz",
        "colab_type": "text"
      },
      "source": [
        "**Μπαίνουμε μέσα στο φάκελο του project**"
      ]
    },
    {
      "cell_type": "code",
      "metadata": {
        "id": "PBp6l_4bBYUL",
        "colab_type": "code",
        "colab": {}
      },
      "source": [
        "cd first-order-model"
      ],
      "execution_count": null,
      "outputs": []
    },
    {
      "cell_type": "markdown",
      "metadata": {
        "id": "HcOkI9e7SxSM",
        "colab_type": "text"
      },
      "source": [
        "**Κατεβάζουμε τα αρχεία του μοντέλου**"
      ]
    },
    {
      "cell_type": "code",
      "metadata": {
        "id": "ed-yw5UKOUMu",
        "colab_type": "code",
        "colab": {}
      },
      "source": [
        "!gdown https://drive.google.com/uc?id=1rWtvWfMaxl8ob0Ikn4B5OA2NTxAeNCcQ\n"
      ],
      "execution_count": null,
      "outputs": []
    },
    {
      "cell_type": "markdown",
      "metadata": {
        "id": "rW-ipQXPOWUo",
        "colab_type": "text"
      },
      "source": [
        "**Φορτώνουμε τις απαραίτητες βιβλιοθήκες**"
      ]
    },
    {
      "cell_type": "code",
      "metadata": {
        "id": "Oxi6-riLOgnm",
        "colab_type": "code",
        "colab": {}
      },
      "source": [
        "import imageio\n",
        "import numpy as np\n",
        "import matplotlib.pyplot as plt\n",
        "import matplotlib.animation as animation\n",
        "from skimage.transform import resize\n",
        "from IPython.display import HTML\n",
        "import warnings\n",
        "warnings.filterwarnings(\"ignore\")\n"
      ],
      "execution_count": null,
      "outputs": []
    },
    {
      "cell_type": "markdown",
      "metadata": {
        "id": "xjM7ubVfWrwT",
        "colab_type": "text"
      },
      "source": [
        "**Δημιουργία μοντέλου και φόρτωση checkpoints**"
      ]
    },
    {
      "cell_type": "code",
      "metadata": {
        "id": "3FQiXqQPWt5B",
        "colab_type": "code",
        "colab": {}
      },
      "source": [
        "from demo import load_checkpoints\n",
        "generator, kp_detector = load_checkpoints(config_path='config/vox-256.yaml', \n",
        "                            checkpoint_path='/content/first-order-model/vox-cpk.pth.tar')"
      ],
      "execution_count": null,
      "outputs": []
    },
    {
      "cell_type": "markdown",
      "metadata": {
        "id": "fdFdasHEj3t7",
        "colab_type": "text"
      },
      "source": [
        "**Φόρτωση βιβλιοθηκών για την δημιουργία animation**"
      ]
    },
    {
      "cell_type": "code",
      "metadata": {
        "id": "SB12II11kF4c",
        "colab_type": "code",
        "colab": {}
      },
      "source": [
        "from demo import make_animation\n",
        "from skimage import img_as_ubyte\n",
        "\n"
      ],
      "execution_count": null,
      "outputs": []
    },
    {
      "cell_type": "markdown",
      "metadata": {
        "id": "QnXrecuX6_Kw",
        "colab_type": "text"
      },
      "source": [
        "## Δοκιμή με τα δικά μας δεδομένα\n",
        "\n"
      ]
    },
    {
      "cell_type": "markdown",
      "metadata": {
        "id": "oYOig4qOu4zV",
        "colab_type": "text"
      },
      "source": [
        "Ανέβασε το βίντεο οδηγο (Θα αντιγράψουμε τις κινήσεις από αυτό το βίντεο)."
      ]
    },
    {
      "cell_type": "code",
      "metadata": {
        "id": "WMddAFOHPIys",
        "colab_type": "code",
        "colab": {}
      },
      "source": [
        "from google.colab import files \n",
        "uploaded = files.upload() \n",
        "for dv in uploaded.keys():\n",
        "  print('User uploaded file \"{name}\" with length {length} bytes'.format(\n",
        "      name=dv, length=len(uploaded[dv])))"
      ],
      "execution_count": null,
      "outputs": []
    },
    {
      "cell_type": "markdown",
      "metadata": {
        "id": "UBj9iDpNw4uX",
        "colab_type": "text"
      },
      "source": [
        "Ανέβασε την εικόνα στόχο (Αυτή η εικόνα θα κινείται με βάση το βίντεο οδηγό)."
      ]
    },
    {
      "cell_type": "code",
      "metadata": {
        "id": "M4Val57jk4_I",
        "colab_type": "code",
        "colab": {}
      },
      "source": [
        "from google.colab import files \n",
        "uploaded = files.upload() \n",
        "for si in uploaded.keys():\n",
        "  print('User uploaded file \"{name}\" with length {length} bytes'.format(\n",
        "      name=si, length=len(uploaded[si])))"
      ],
      "execution_count": null,
      "outputs": []
    },
    {
      "cell_type": "markdown",
      "metadata": {
        "id": "p7X1SokD5qPU",
        "colab_type": "text"
      },
      "source": [
        "Σε αυτό το βήμα κάνουμε αυτόματο crop την εικόνα γύρω από το πρόσωπο "
      ]
    },
    {
      "cell_type": "code",
      "metadata": {
        "id": "KGDFdZIm4eMk",
        "colab_type": "code",
        "colab": {}
      },
      "source": [
        "from PIL import Image\n",
        "from autocrop import Cropper\n",
        "\n",
        "cropper = Cropper(width=500, height=500, face_percent=20, padding=50)\n",
        "\n",
        "# Get a Numpy array of the cropped image\n",
        "cropped_array = cropper.crop('/content/first-order-model/' + si)\n",
        "\n",
        "# Save the cropped image with PIL\n",
        "cropped_image = Image.fromarray(cropped_array)\n",
        "cropped_image.save('cropped.png')"
      ],
      "execution_count": null,
      "outputs": []
    },
    {
      "cell_type": "markdown",
      "metadata": {
        "id": "SDJTk7pMxCHu",
        "colab_type": "text"
      },
      "source": [
        "**Εδώ κάνουμε crop το βίντεο σε διαστάσεις 600x600. \n",
        "Αν το πρόσωπο στο βίντεο σας δεν είναι καλά κεντραρισμένο στο κάδρο, παίξτε με τις τιμές του \"crop=600:600:390:10\". Επίσης ορίζουμε την διάρκεια του βίντεο μας.[πχ: (-t 00:00:12) = 12 δευτερόλεπτα]**\n",
        "\n",
        "Το μέγεθος του τετραγώνου που πρέπει να γίνει crop, αλλάζει ανάλογα με τις διαστάσεις του βίντεο σας."
      ]
    },
    {
      "cell_type": "code",
      "metadata": {
        "id": "PuK6VVpOWAKA",
        "colab_type": "code",
        "cellView": "form",
        "colab": {}
      },
      "source": [
        "#@markdown ## <font color=\"red\" size=\"+3\">←</font> Πάτα αυτό το κουμπάκι για να πάρεις μία βοήθεια για τις διαστάσεις του βίντεο σου.\n",
        "import cv2\n",
        "file_path = \"/content/first-order-model/\"+dv\n",
        "vid = cv2.VideoCapture(file_path)\n",
        "height = vid.get(cv2.CAP_PROP_FRAME_HEIGHT) \n",
        "width =  vid.get(cv2.CAP_PROP_FRAME_WIDTH)\n",
        "if height < width:\n",
        "    smaller = height\n",
        "else: \n",
        "    smaller = width\n",
        "print(\"Το βίντεο σου έχει διαστάσεις:\" + str(int(width)) + \"x\" + str(int(height)) + \"\\n\")\n",
        "print(\"Αυτό σημαίνει ότι στην επόμενη εντολή θα πρέπει να βρείς ένα τετράγωνο μικρότερο από:\" + str(int(smaller)) + \"x\" + str(int(smaller)))\n",
        "print(\"Δοκίμασε για παράδειγμα: \\\"crop=\" + str(int(smaller)-20) + \":\" + str(int(smaller)-20) + \":50:10\")"
      ],
      "execution_count": null,
      "outputs": []
    },
    {
      "cell_type": "code",
      "metadata": {
        "id": "brJlA_5o72Xc",
        "colab_type": "code",
        "colab": {}
      },
      "source": [
        "!ffmpeg -i /content/first-order-model/$dv -ss 00:00:00.00 -t 00:00:12 -filter:v \"crop=300:300:50:10\" -async 1 driving_video.mp4"
      ],
      "execution_count": null,
      "outputs": []
    },
    {
      "cell_type": "code",
      "metadata": {
        "id": "54oWUXLm9Aw5",
        "colab_type": "code",
        "colab": {},
        "cellView": "form"
      },
      "source": [
        "#@markdown ## <font color=\"red\" size=\"+3\">←</font> Πάτα αυτό το κουμπάκι για να δεις το τετράγωνο που έκοψες. Αν το τετράγωνο δεν περιέχει όλο το πρόσωπο σου, άλλαξε τις διαστάσεις στο προηγούμενο βήμα και ξανα δοκίμασε\n",
        "from IPython.display import HTML\n",
        "from base64 import b64encode\n",
        "mp4 = open(\"driving_video.mp4\",'rb').read()\n",
        "data_url = \"data:video/mp4;base64,\" + b64encode(mp4).decode()\n",
        "HTML(\"\"\"\n",
        "<video width=256 controls>\n",
        "      <source src=\"%s\" type=\"video/mp4\">\n",
        "</video>\n",
        "\"\"\" % data_url)"
      ],
      "execution_count": null,
      "outputs": []
    },
    {
      "cell_type": "code",
      "metadata": {
        "id": "d8kQ3U7MHqh-",
        "colab_type": "code",
        "colab": {}
      },
      "source": [
        "source_image = imageio.imread('cropped.png')\n",
        "driving_video = imageio.mimread('driving_video.mp4', memtest=False)\n",
        "\n",
        "\n",
        "#Resize image and video to 256x256\n",
        "\n",
        "source_image = resize(source_image, (256, 256))[..., :3]\n",
        "\n",
        "driving_video = [resize(frame, (256, 256))[..., :3] for frame in driving_video]\n",
        "\n",
        "predictions = make_animation(source_image, driving_video, generator, kp_detector, relative=True,  adapt_movement_scale=True)\n",
        "\n",
        "def display(source, driving, generated=None):\n",
        "    fig = plt.figure(figsize=(8 + 4 * (generated is not None), 6))\n",
        "\n",
        "    ims = []\n",
        "    for i in range(len(driving)):\n",
        "        cols = [source]\n",
        "        cols.append(driving[i])\n",
        "        if generated is not None:\n",
        "            cols.append(generated[i])\n",
        "        im = plt.imshow(np.concatenate(cols, axis=1), animated=True)\n",
        "        plt.axis('off')\n",
        "        ims.append([im])\n",
        "\n",
        "    ani = animation.ArtistAnimation(fig, ims, interval=50, repeat_delay=1000)\n",
        "    plt.close()\n",
        "    return ani\n",
        "    \n",
        "\n",
        "HTML(display(source_image, driving_video, predictions).to_html5_video())"
      ],
      "execution_count": null,
      "outputs": []
    }
  ]
}