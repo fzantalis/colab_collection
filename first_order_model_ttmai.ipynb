{
  "nbformat": 4,
  "nbformat_minor": 0,
  "metadata": {
    "colab": {
      "name": "first-order-model-ttmai.ipynb",
      "provenance": [],
      "toc_visible": true,
      "include_colab_link": true
    },
    "kernelspec": {
      "name": "python3",
      "display_name": "Python 3"
    },
    "accelerator": "GPU"
  },
  "cells": [
    {
      "cell_type": "markdown",
      "metadata": {
        "id": "view-in-github",
        "colab_type": "text"
      },
      "source": [
        "<a href=\"https://colab.research.google.com/github/fzantalis/colab_collection/blob/master/first_order_model_ttmai.ipynb\" target=\"_parent\"><img src=\"https://colab.research.google.com/assets/colab-badge.svg\" alt=\"Open In Colab\"/></a>"
      ]
    },
    {
      "cell_type": "markdown",
      "metadata": {
        "id": "cdO_RxQZLahB",
        "colab_type": "text"
      },
      "source": [
        "# Demo for paper \"First Order Motion Model for Image Animation\""
      ]
    },
    {
      "cell_type": "markdown",
      "metadata": {
        "id": "GCDNKsEGLtR6",
        "colab_type": "text"
      },
      "source": [
        "**Αντιγράφουμε τα αρχεία που χρειαζόμαστε από το official github repository**"
      ]
    },
    {
      "cell_type": "code",
      "metadata": {
        "id": "UCMFMJV7K-ag",
        "colab_type": "code",
        "colab": {}
      },
      "source": [
        "!git clone https://github.com/AliaksandrSiarohin/first-order-model"
      ],
      "execution_count": 0,
      "outputs": []
    },
    {
      "cell_type": "markdown",
      "metadata": {
        "id": "ZaHs0zSPFxyr",
        "colab_type": "text"
      },
      "source": [
        "**Restart Runtime**\n",
        "\n",
        "Επιλέγουμε από το μενού (Runtime -> Restart Runtime).\n",
        "\n",
        "Ή πατάμε τα πλήκτρα συντόμευσης ( Ctrl + M + . )   (ναι.. πατάμε και την τελεία)"
      ]
    },
    {
      "cell_type": "markdown",
      "metadata": {
        "id": "GMtRy57_vqkz",
        "colab_type": "text"
      },
      "source": [
        "**Μπαίνουμε μέσα στο φάκελο του project**"
      ]
    },
    {
      "cell_type": "code",
      "metadata": {
        "id": "PBp6l_4bBYUL",
        "colab_type": "code",
        "colab": {}
      },
      "source": [
        "cd first-order-model"
      ],
      "execution_count": 0,
      "outputs": []
    },
    {
      "cell_type": "markdown",
      "metadata": {
        "id": "IcMX7ueZO0Oa",
        "colab_type": "text"
      },
      "source": [
        "**Σύνδεση του Google drive μας στο Colab**\n",
        "\n",
        "Στην συνέχεια χρειαζόμαστε τα αρχεία από το εκπαιδευμένο μοντέλο. Τα αρχεία αυτά είναι μεγάλα σε όγκο, οπότε συνδέσουμε το google drive μας με το colab και θα προσθέσουμε στο drive μας έναν κοινόχρηστο φάκελο που μας προσφέρει ο developer αυτής της εφαρμογής."
      ]
    },
    {
      "cell_type": "code",
      "metadata": {
        "id": "tDbMA8R9OuUo",
        "colab_type": "code",
        "colab": {}
      },
      "source": [
        "from google.colab import drive\n",
        "drive.mount('/content/gdrive')"
      ],
      "execution_count": 0,
      "outputs": []
    },
    {
      "cell_type": "markdown",
      "metadata": {
        "id": "VsgVK1EURXkd",
        "colab_type": "text"
      },
      "source": [
        "**Προσθέτουμε στο drive μας τον κοινόχρηστο φάκελο ακολουθώντας αυτό το link https://drive.google.com/drive/folders/1kZ1gCnpfU0BnpdU47pLM_TQ6RypDDqgw?usp=sharing**"
      ]
    },
    {
      "cell_type": "markdown",
      "metadata": {
        "id": "rW-ipQXPOWUo",
        "colab_type": "text"
      },
      "source": [
        "**Φορτώνουμε τις απαραίτητες βιβλιοθήκες**"
      ]
    },
    {
      "cell_type": "code",
      "metadata": {
        "id": "Oxi6-riLOgnm",
        "colab_type": "code",
        "colab": {}
      },
      "source": [
        "import imageio\n",
        "import numpy as np\n",
        "import matplotlib.pyplot as plt\n",
        "import matplotlib.animation as animation\n",
        "from skimage.transform import resize\n",
        "from IPython.display import HTML\n",
        "import warnings\n",
        "warnings.filterwarnings(\"ignore\")\n"
      ],
      "execution_count": 0,
      "outputs": []
    },
    {
      "cell_type": "markdown",
      "metadata": {
        "id": "xjM7ubVfWrwT",
        "colab_type": "text"
      },
      "source": [
        "**Δημιουργία μοντέλου και φόρτωση checkpoints**"
      ]
    },
    {
      "cell_type": "code",
      "metadata": {
        "id": "3FQiXqQPWt5B",
        "colab_type": "code",
        "colab": {}
      },
      "source": [
        "from demo import load_checkpoints\n",
        "generator, kp_detector = load_checkpoints(config_path='config/vox-256.yaml', \n",
        "                            checkpoint_path='/content/gdrive/My Drive/first-order-motion-model/vox-cpk.pth.tar')"
      ],
      "execution_count": 0,
      "outputs": []
    },
    {
      "cell_type": "markdown",
      "metadata": {
        "id": "fdFdasHEj3t7",
        "colab_type": "text"
      },
      "source": [
        "**Φόρτωση βιβλιοθηκών για την δημιουργία animation**"
      ]
    },
    {
      "cell_type": "code",
      "metadata": {
        "id": "SB12II11kF4c",
        "colab_type": "code",
        "colab": {}
      },
      "source": [
        "from demo import make_animation\n",
        "from skimage import img_as_ubyte\n",
        "\n"
      ],
      "execution_count": 0,
      "outputs": []
    },
    {
      "cell_type": "markdown",
      "metadata": {
        "id": "QnXrecuX6_Kw",
        "colab_type": "text"
      },
      "source": [
        "## Δοκιμή με τα δικά μας δεδομένα\n",
        "\n"
      ]
    },
    {
      "cell_type": "markdown",
      "metadata": {
        "id": "oYOig4qOu4zV",
        "colab_type": "text"
      },
      "source": [
        "Ανέβασε το βίντεο οδηγο (Θα αντιγράψουμε τις κινήσεις από αυτό το βίντεο)."
      ]
    },
    {
      "cell_type": "code",
      "metadata": {
        "id": "WMddAFOHPIys",
        "colab_type": "code",
        "colab": {}
      },
      "source": [
        "from google.colab import files \n",
        "uploaded = files.upload() \n",
        "for dv in uploaded.keys():\n",
        "  print('User uploaded file \"{name}\" with length {length} bytes'.format(\n",
        "      name=dv, length=len(uploaded[dv])))"
      ],
      "execution_count": 0,
      "outputs": []
    },
    {
      "cell_type": "markdown",
      "metadata": {
        "id": "UBj9iDpNw4uX",
        "colab_type": "text"
      },
      "source": [
        "Ανέβασε την εικόνα στόχο (Αυτή η εικόνα θα κινείται με βάση το βίντεο οδηγό)."
      ]
    },
    {
      "cell_type": "code",
      "metadata": {
        "id": "M4Val57jk4_I",
        "colab_type": "code",
        "colab": {}
      },
      "source": [
        "from google.colab import files \n",
        "uploaded = files.upload() \n",
        "for si in uploaded.keys():\n",
        "  print('User uploaded file \"{name}\" with length {length} bytes'.format(\n",
        "      name=si, length=len(uploaded[si])))"
      ],
      "execution_count": 0,
      "outputs": []
    },
    {
      "cell_type": "markdown",
      "metadata": {
        "id": "SDJTk7pMxCHu",
        "colab_type": "text"
      },
      "source": [
        "**Εδώ κάνουμε crop το βίντεο σε διαστάσεις 600x600. \n",
        "Αν το πρόσωπο στο βίντεο σας δεν είναι καλά κεντραρισμένο στο κάδρο, παίξτε με τις τιμές του \"crop=600:600:390:10\"**"
      ]
    },
    {
      "cell_type": "code",
      "metadata": {
        "id": "brJlA_5o72Xc",
        "colab_type": "code",
        "colab": {}
      },
      "source": [
        "!ffmpeg -i /content/first-order-model/$dv -ss 00:00:00.00 -t 00:00:12 -filter:v \"crop=600:600:390:10\" -async 1 driving_video.mp4"
      ],
      "execution_count": 0,
      "outputs": []
    },
    {
      "cell_type": "code",
      "metadata": {
        "id": "d8kQ3U7MHqh-",
        "colab_type": "code",
        "colab": {}
      },
      "source": [
        "source_image = imageio.imread('/content/first-order-model/' + si)\n",
        "driving_video = imageio.mimread('driving_video.mp4', memtest=False)\n",
        "\n",
        "\n",
        "#Resize image and video to 256x256\n",
        "\n",
        "source_image = resize(source_image, (256, 256))[..., :3]\n",
        "\n",
        "driving_video = [resize(frame, (256, 256))[..., :3] for frame in driving_video]\n",
        "\n",
        "predictions = make_animation(source_image, driving_video, generator, kp_detector, relative=True,  adapt_movement_scale=True)\n",
        "\n",
        "def display(source, driving, generated=None):\n",
        "    fig = plt.figure(figsize=(8 + 4 * (generated is not None), 6))\n",
        "\n",
        "    ims = []\n",
        "    for i in range(len(driving)):\n",
        "        cols = [source]\n",
        "        cols.append(driving[i])\n",
        "        if generated is not None:\n",
        "            cols.append(generated[i])\n",
        "        im = plt.imshow(np.concatenate(cols, axis=1), animated=True)\n",
        "        plt.axis('off')\n",
        "        ims.append([im])\n",
        "\n",
        "    ani = animation.ArtistAnimation(fig, ims, interval=50, repeat_delay=1000)\n",
        "    plt.close()\n",
        "    return ani\n",
        "    \n",
        "\n",
        "HTML(display(source_image, driving_video, predictions).to_html5_video())"
      ],
      "execution_count": 0,
      "outputs": []
    }
  ]
}