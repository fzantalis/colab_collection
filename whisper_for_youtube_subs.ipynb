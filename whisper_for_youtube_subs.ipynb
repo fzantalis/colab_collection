{
  "nbformat": 4,
  "nbformat_minor": 0,
  "metadata": {
    "colab": {
      "provenance": [],
      "gpuType": "T4",
      "authorship_tag": "ABX9TyMal1Xuy7nckknFCRN/gPKD",
      "include_colab_link": true
    },
    "kernelspec": {
      "name": "python3",
      "display_name": "Python 3"
    },
    "language_info": {
      "name": "python"
    },
    "accelerator": "GPU"
  },
  "cells": [
    {
      "cell_type": "markdown",
      "metadata": {
        "id": "view-in-github",
        "colab_type": "text"
      },
      "source": [
        "<a href=\"https://colab.research.google.com/github/fzantalis/colab_collection/blob/master/whisper_for_youtube_subs.ipynb\" target=\"_parent\"><img src=\"https://colab.research.google.com/assets/colab-badge.svg\" alt=\"Open In Colab\"/></a>"
      ]
    },
    {
      "cell_type": "markdown",
      "source": [
        "Αυτός ο κώδικας τρέχει πιο γρήγορα με την χρήση GPU. Πριν ξεκινήσεις, επέλεξε GPU Runtime από την μπάρα από πάνω. **Runtime -> Change runtime type -> Hardware Accelerator: GPU**"
      ],
      "metadata": {
        "id": "_H66vppA1gkW"
      }
    },
    {
      "cell_type": "markdown",
      "source": [
        "# Εγκατάσταση Πακέτων"
      ],
      "metadata": {
        "id": "VjlGjB2kzWHa"
      }
    },
    {
      "cell_type": "code",
      "execution_count": null,
      "metadata": {
        "cellView": "form",
        "id": "B3Y_Jz2gG5sl"
      },
      "outputs": [],
      "source": [
        "#@markdown ***Whisper Setup***\n",
        "\n",
        "#@markdown **Εγκατάσταση των βασικών πακέτων του whisper**\n",
        "!pip install git+https://github.com/openai/whisper.git\n",
        "!sudo apt update && sudo apt install ffmpeg"
      ]
    },
    {
      "cell_type": "code",
      "source": [
        "#@markdown **YouTube Downloader Setup**\n",
        "\n",
        "#@markdown **Εγκατάσταση του εργαλείου yt-dlp για την μετατροπή ενός YouTube Video σε mp3**\n",
        "!sudo wget https://github.com/yt-dlp/yt-dlp/releases/latest/download/yt-dlp -O /usr/local/bin/yt-dlp\n",
        "!sudo chmod a+rx /usr/local/bin/yt-dlp"
      ],
      "metadata": {
        "cellView": "form",
        "id": "D5wWoBC-H4rU"
      },
      "execution_count": null,
      "outputs": []
    },
    {
      "cell_type": "markdown",
      "source": [
        "# Ρυθμίσεις"
      ],
      "metadata": {
        "id": "RVUiYeqHz3Fr"
      }
    },
    {
      "cell_type": "code",
      "source": [
        "#@markdown ***Link of the YouTube video you want to transcribe***\n",
        "\n",
        "#@markdown **Βάλε το link του YouTube βίντεο που θές να απομαγνητογωνήσεις**\n",
        "youtube_link = \"https://www.youtube.com/watch?v=ejcH2l4nZag\" #@param {type:\"string\"}"
      ],
      "metadata": {
        "cellView": "form",
        "id": "Q9RkWiw1Kxc4"
      },
      "execution_count": null,
      "outputs": []
    },
    {
      "cell_type": "code",
      "source": [
        " #@markdown ####**Select a Whisper Model:**\n",
        "\n",
        " #@markdown **To whisper μας δίνει την δυνατότητα να επιλέξουμε ποιο μοντέλο θέλουμε να χρησιμοποιήσουμε. Τα πιο μικρά μοντέλα είναι ταχύτερα, αλλά ενδεχομένως λιγότερο αποτελεσματικά**\n",
        " model = 'large-v3' #@param ['large-v3', 'large-v2', 'large', 'medium', 'small', 'base', 'tiny'] {type:'string'}"
      ],
      "metadata": {
        "cellView": "form",
        "id": "2YdAS3VaMNDb"
      },
      "execution_count": null,
      "outputs": []
    },
    {
      "cell_type": "markdown",
      "source": [
        "# Εκτέλεση"
      ],
      "metadata": {
        "id": "jNEs0pSj0NnW"
      }
    },
    {
      "cell_type": "code",
      "source": [
        "#@markdown ***Download video to mp3***\n",
        "\n",
        "#@markdown ***Εκτέλεσε για να κατεβάσεις το βίντεο σε μορφή mp3***\n",
        "!yt-dlp --restrict-filenames -x --audio-format mp3 --output \"myfile.mp3\" $youtube_link"
      ],
      "metadata": {
        "cellView": "form",
        "id": "nyREC7GOITJP"
      },
      "execution_count": null,
      "outputs": []
    },
    {
      "cell_type": "code",
      "source": [
        "#@markdown #***Run Whisper***\n",
        "\n",
        "#@markdown Τρέχοντας αυτό το μπλοκ θα ξεκινήσει η δημιουργία των υποτίτλων. Μόλις ολοκληρωθεί η εκτέλεση, το αρχείο των υποτίτλων θα βρίσκεται στα αριστερά στην λίστα των αρχέιων του colab με το όνομα **myfile.srt** απ' όπου μπορούμε και να το κατεβάσουμε\n",
        "!whisper \"myfile.mp3\" --model $model --output_format srt"
      ],
      "metadata": {
        "cellView": "form",
        "id": "jseql60fHSd6"
      },
      "execution_count": null,
      "outputs": []
    }
  ]
}