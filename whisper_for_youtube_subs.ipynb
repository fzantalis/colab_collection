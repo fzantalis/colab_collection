{
  "nbformat": 4,
  "nbformat_minor": 0,
  "metadata": {
    "colab": {
      "provenance": [],
      "gpuType": "T4",
      "authorship_tag": "ABX9TyMxZoJZWQts6SqxXvSbVWx9",
      "include_colab_link": true
    },
    "kernelspec": {
      "name": "python3",
      "display_name": "Python 3"
    },
    "language_info": {
      "name": "python"
    },
    "accelerator": "GPU"
  },
  "cells": [
    {
      "cell_type": "markdown",
      "metadata": {
        "id": "view-in-github",
        "colab_type": "text"
      },
      "source": [
        "<a href=\"https://colab.research.google.com/github/fzantalis/colab_collection/blob/master/whisper_for_youtube_subs.ipynb\" target=\"_parent\"><img src=\"https://colab.research.google.com/assets/colab-badge.svg\" alt=\"Open In Colab\"/></a>"
      ]
    },
    {
      "cell_type": "code",
      "execution_count": null,
      "metadata": {
        "cellView": "form",
        "id": "B3Y_Jz2gG5sl"
      },
      "outputs": [],
      "source": [
        "#@markdown **Whisper Setup**\n",
        "!pip install git+https://github.com/openai/whisper.git\n",
        "!sudo apt update && sudo apt install ffmpeg"
      ]
    },
    {
      "cell_type": "code",
      "source": [
        "#@markdown **YouTube Downloader Setup**\n",
        "!sudo wget https://github.com/yt-dlp/yt-dlp/releases/latest/download/yt-dlp -O /usr/local/bin/yt-dlp\n",
        "!sudo chmod a+rx /usr/local/bin/yt-dlp"
      ],
      "metadata": {
        "cellView": "form",
        "id": "D5wWoBC-H4rU"
      },
      "execution_count": null,
      "outputs": []
    },
    {
      "cell_type": "code",
      "source": [
        "#@markdown #***Link of the YouTube video you want to transcribe***\n",
        "youtube_link = \"https://www.youtube.com/watch?v=ejcH2l4nZag\" #@param {type:\"string\"}"
      ],
      "metadata": {
        "cellView": "form",
        "id": "Q9RkWiw1Kxc4"
      },
      "execution_count": null,
      "outputs": []
    },
    {
      "cell_type": "code",
      "source": [
        "#@markdown #***Download video to mp3***\n",
        "!yt-dlp --restrict-filenames -x --audio-format mp3 --output \"myfile.mp3\" $youtube_link"
      ],
      "metadata": {
        "cellView": "form",
        "id": "nyREC7GOITJP"
      },
      "execution_count": null,
      "outputs": []
    },
    {
      "cell_type": "code",
      "source": [
        "#@markdown #Otherwise, you can upload a video or mp3\n",
        "from google.colab import files\n",
        "uploaded = files.upload()\n",
        "for audio in uploaded.keys():\n",
        "  print('User uploaded file \"{name}\" with length {length} bytes'.format(\n",
        "      name=audio, length=len(uploaded[audio])))"
      ],
      "metadata": {
        "cellView": "form",
        "id": "EwWea-8VKdSM"
      },
      "execution_count": null,
      "outputs": []
    },
    {
      "cell_type": "code",
      "source": [
        " #@markdown ####**Select a Whisper Model:**\n",
        "model = 'large-v2' #@param ['large-v2', 'large', 'medium', 'small', 'base', 'tiny'] {type:'string'}"
      ],
      "metadata": {
        "cellView": "form",
        "id": "2YdAS3VaMNDb"
      },
      "execution_count": null,
      "outputs": []
    },
    {
      "cell_type": "code",
      "source": [
        "#@markdown #***Run Whisper***\n",
        "!whisper \"myfile.mp3\" --model $model --output_format srt"
      ],
      "metadata": {
        "cellView": "form",
        "id": "jseql60fHSd6"
      },
      "execution_count": null,
      "outputs": []
    }
  ]
}