{
  "nbformat": 4,
  "nbformat_minor": 0,
  "metadata": {
    "colab": {
      "name": "Wav2Lip_quick_trial_ttmai.ipynb",
      "provenance": [],
      "collapsed_sections": [],
      "toc_visible": true,
      "include_colab_link": true
    },
    "kernelspec": {
      "name": "python3",
      "display_name": "Python 3"
    },
    "accelerator": "GPU"
  },
  "cells": [
    {
      "cell_type": "markdown",
      "metadata": {
        "id": "view-in-github",
        "colab_type": "text"
      },
      "source": [
        "<a href=\"https://colab.research.google.com/github/fzantalis/colab_collection/blob/master/Wav2Lip_quick_trial_ttmai.ipynb\" target=\"_parent\"><img src=\"https://colab.research.google.com/assets/colab-badge.svg\" alt=\"Open In Colab\"/></a>"
      ]
    },
    {
      "cell_type": "markdown",
      "metadata": {
        "id": "vSQFs_G8caeE",
        "colab_type": "text"
      },
      "source": [
        "# WAV2Lip\n",
        "\n",
        "Αυτό το notebook βασίζεται στο [Wav2Lip_quick_trial]().\n",
        "\n",
        "Εδώ μπορούμε να δημιουργήσουμε ένα εξαιρετικά ακριβές lipsynced video, έχοντας σαν είσοδο μία εικόνα ή ένα βίντεο + ένα αρχείο ήχου ή ένα άλλο βίντεο με ήχο.\n",
        "\n",
        "Η εφαρμογή χρησιμοποιεί ένα ήδη εκπαιδευμένο μοντέλο."
      ]
    },
    {
      "cell_type": "markdown",
      "metadata": {
        "id": "yJ5taGmPcWV-",
        "colab_type": "text"
      },
      "source": [
        "# Κατεβάζουμε τον κώδικα του Wav2Lip από το github"
      ]
    },
    {
      "cell_type": "code",
      "metadata": {
        "id": "P3LihClHbUd3",
        "colab_type": "code",
        "colab": {}
      },
      "source": [
        "!git clone https://github.com/Rudrabha/Wav2Lip.git"
      ],
      "execution_count": null,
      "outputs": []
    },
    {
      "cell_type": "markdown",
      "metadata": {
        "id": "DSG0JRCPTiIV",
        "colab_type": "text"
      },
      "source": [
        "Κατεβάζουμε το εκπαιδευμένο μοντέλο"
      ]
    },
    {
      "cell_type": "code",
      "metadata": {
        "id": "YjzMPy_Sb0AI",
        "colab_type": "code",
        "colab": {}
      },
      "source": [
        "!gdown -O '/content/Wav2Lip/checkpoints/wav2lip_gan.pth'   https://drive.google.com/uc?id=16A9GmwUvi-B_GfkzMfoqo1u0uZSbWCdY"
      ],
      "execution_count": null,
      "outputs": []
    },
    {
      "cell_type": "markdown",
      "metadata": {
        "id": "aWTaOS3ncFt6",
        "colab_type": "text"
      },
      "source": [
        "# Εγκαθιστούμε τα απαραίτητα πακέτα"
      ]
    },
    {
      "cell_type": "code",
      "metadata": {
        "id": "Ooh28vw-Uvd3",
        "colab_type": "code",
        "colab": {}
      },
      "source": [
        "!pip uninstall -y tensorflow tensorflow-gpu"
      ],
      "execution_count": null,
      "outputs": []
    },
    {
      "cell_type": "code",
      "metadata": {
        "id": "49dCYlLdcK2D",
        "colab_type": "code",
        "colab": {}
      },
      "source": [
        "!cd Wav2Lip && pip install -r requirements.txt"
      ],
      "execution_count": null,
      "outputs": []
    },
    {
      "cell_type": "code",
      "metadata": {
        "id": "ey_bN4M6X_95",
        "colab_type": "code",
        "colab": {}
      },
      "source": [
        "!wget \"https://www.adrianbulat.com/downloads/python-fan/s3fd-619a316812.pth\" -O \"Wav2Lip/face_detection/detection/sfd/s3fd.pth\""
      ],
      "execution_count": null,
      "outputs": []
    },
    {
      "cell_type": "markdown",
      "metadata": {
        "id": "qdIQfY2Kswcb",
        "colab_type": "text"
      },
      "source": [
        "# Ανεβάζουμε τα δικά μας αρχεία\n",
        "\n",
        "Πρώτα ανεβάζουμε το βίντεο ή την εικόνα που θέλουμε να συγχρονίσουμε"
      ]
    },
    {
      "cell_type": "code",
      "metadata": {
        "id": "XS-RuZ_Hxd-3",
        "colab_type": "code",
        "colab": {}
      },
      "source": [
        "from google.colab import files \n",
        "uploaded = files.upload() \n",
        "for dv in uploaded.keys():\n",
        "  print('User uploaded file \"{name}\" with length {length} bytes'.format(\n",
        "      name=dv, length=len(uploaded[dv])))"
      ],
      "execution_count": null,
      "outputs": []
    },
    {
      "cell_type": "markdown",
      "metadata": {
        "id": "RhmDLndux2a_",
        "colab_type": "text"
      },
      "source": [
        "Και εδώ ανεβάζουμε το αρχείο ήχου ή το βίντεο με ήχο, από το οποίο θέλουμε να συνθέσουμε την κίνηση του στόματος"
      ]
    },
    {
      "cell_type": "code",
      "metadata": {
        "id": "dJRETx1-yFMU",
        "colab_type": "code",
        "colab": {}
      },
      "source": [
        "from google.colab import files \n",
        "uploaded = files.upload() \n",
        "for audio in uploaded.keys():\n",
        "  print('User uploaded file \"{name}\" with length {length} bytes'.format(\n",
        "      name=audio, length=len(uploaded[audio])))"
      ],
      "execution_count": null,
      "outputs": []
    },
    {
      "cell_type": "markdown",
      "metadata": {
        "id": "YeMDbeHeya6r",
        "colab_type": "text"
      },
      "source": [
        "# Εκτέλεση της εφαρμογής"
      ]
    },
    {
      "cell_type": "code",
      "metadata": {
        "id": "jR5utmDMcSZY",
        "colab_type": "code",
        "colab": {}
      },
      "source": [
        "!cd Wav2Lip && python inference.py --checkpoint_path checkpoints/wav2lip_gan.pth --face {dv} --audio {audio}"
      ],
      "execution_count": null,
      "outputs": []
    },
    {
      "cell_type": "markdown",
      "metadata": {
        "id": "d7zgfrQqbKom",
        "colab_type": "text"
      },
      "source": [
        "## Παραλλαγές για καλύτερο αποτέλεσμα\n"
      ]
    },
    {
      "cell_type": "markdown",
      "metadata": {
        "id": "0f9A9VDVbZAG",
        "colab_type": "text"
      },
      "source": [
        "1.   Μεγάλωσε το μέγεθος του τετραγώνου που γίνεται animate με την επιλογή **pads** (--pads 0 20 0 0). \n",
        "\n",
        "Αν κάποιο σημείο του προσώπου όπως το πηγούνι δεν χωράει στο αρχικό παράθυρο, παίξε με αυτές τις τιμές."
      ]
    },
    {
      "cell_type": "code",
      "metadata": {
        "id": "45XW4SZAzIz5",
        "colab_type": "code",
        "colab": {}
      },
      "source": [
        "!cd Wav2Lip && python inference.py --checkpoint_path checkpoints/wav2lip_gan.pth --face \"../sample_data/input_vid.mp4\" --audio \"../sample_data/input_audio.wav\" --pads 0 20 0 0 --resize_factor 2"
      ],
      "execution_count": null,
      "outputs": []
    },
    {
      "cell_type": "markdown",
      "metadata": {
        "id": "uo-WnsxfbwTG",
        "colab_type": "text"
      },
      "source": [
        "2.  Μείωσε την ανάλυση της εικόνας η του video σου. Το μοντέλο εκπαιδεύτηκε σε χαμηλότερης ανάλυσης βίντεο. Οπότε βίντεο γύρω στα 480p μπορεί να δώσουν καλύτερο αποτέλεσμα.\n",
        "\n",
        "Κάνε δοκιμές αλλάζοντας τις τιμές του **--resize_factor**"
      ]
    },
    {
      "cell_type": "code",
      "metadata": {
        "id": "xw0xFtZ2bsx8",
        "colab_type": "code",
        "colab": {}
      },
      "source": [
        "!cd Wav2Lip && python inference.py --checkpoint_path checkpoints/wav2lip_gan.pth --face {dv} --audio {audio} --resize_factor 2"
      ],
      "execution_count": null,
      "outputs": []
    },
    {
      "cell_type": "markdown",
      "metadata": {
        "id": "oWQUGPZWf9B7",
        "colab_type": "text"
      },
      "source": [
        "# Τύπωσε το βίντεο στην οθόνη"
      ]
    },
    {
      "cell_type": "code",
      "metadata": {
        "id": "c--EIGKneXSZ",
        "colab_type": "code",
        "colab": {}
      },
      "source": [
        "from IPython.display import HTML\n",
        "from base64 import b64encode\n",
        "mp4 = open('/content/Wav2Lip/results/result_voice.mp4','rb').read()\n",
        "data_url = \"data:video/mp4;base64,\" + b64encode(mp4).decode()\n",
        "HTML(\"\"\"\n",
        "<video height=500 controls>\n",
        "      <source src=\"%s\" type=\"video/mp4\">\n",
        "</video>\n",
        "\"\"\" % data_url)"
      ],
      "execution_count": null,
      "outputs": []
    }
  ]
}